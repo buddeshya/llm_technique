{
 "cells": [
  {
   "cell_type": "code",
   "execution_count": 137,
   "metadata": {},
   "outputs": [
    {
     "name": "stdout",
     "output_type": "stream",
     "text": [
      "Note: you may need to restart the kernel to use updated packages.\n"
     ]
    }
   ],
   "source": [
    "%pip install --upgrade --quiet  langchain langchain-community langchain-openai langchain-experimental neo4j wikipedia tiktoken yfiles_jupyter_graphs"
   ]
  },
  {
   "cell_type": "code",
   "execution_count": 1,
   "metadata": {},
   "outputs": [],
   "source": [
    "from langchain_core.runnables import (\n",
    "    RunnableBranch,\n",
    "    RunnableLambda,\n",
    "    RunnableParallel,\n",
    "    RunnablePassthrough,\n",
    ")"
   ]
  },
  {
   "cell_type": "code",
   "execution_count": 4,
   "metadata": {},
   "outputs": [],
   "source": [
    "from langchain_core.prompts import ChatPromptTemplate\n",
    "from langchain_core.prompts.prompt import PromptTemplate"
   ]
  },
  {
   "cell_type": "code",
   "execution_count": 5,
   "metadata": {},
   "outputs": [
    {
     "data": {
      "text/plain": [
       "True"
      ]
     },
     "execution_count": 5,
     "metadata": {},
     "output_type": "execute_result"
    }
   ],
   "source": [
    "import os\n",
    "from dotenv import load_dotenv\n",
    "from openai import OpenAI\n",
    "load_dotenv()\n"
   ]
  },
  {
   "cell_type": "code",
   "execution_count": 6,
   "metadata": {},
   "outputs": [],
   "source": [
    "from typing import Tuple, List, Optional"
   ]
  },
  {
   "cell_type": "code",
   "execution_count": 7,
   "metadata": {},
   "outputs": [],
   "source": [
    "from langchain_core.messages import AIMessage, HumanMessage\n",
    "from langchain_core.output_parsers import StrOutputParser\n",
    "from langchain_core.runnables import ConfigurableField\n",
    "from yfiles_jupyter_graphs import GraphWidget\n",
    "from neo4j import GraphDatabase"
   ]
  },
  {
   "cell_type": "code",
   "execution_count": 8,
   "metadata": {},
   "outputs": [],
   "source": [
    "from langchain_community.vectorstores import Neo4jVector"
   ]
  },
  {
   "cell_type": "code",
   "execution_count": 9,
   "metadata": {},
   "outputs": [],
   "source": [
    "NEO4J_URI = os.getenv('NEO4J_URI')\n",
    "NEO4J_USERNAME = os.getenv('NEO4J_USERNAME')\n",
    "NEO4J_PASSWORD = os.getenv('NEO4J_PASSWORD')\n",
    "\n",
    "OPENAI_API_KEY = os.getenv('OPENAI_API_KEY')\n",
    "client = OpenAI(api_key = OPENAI_API_KEY)"
   ]
  },
  {
   "cell_type": "code",
   "execution_count": 10,
   "metadata": {},
   "outputs": [],
   "source": [
    "from langchain.document_loaders import PyPDFLoader, DirectoryLoader\n",
    "from langchain.text_splitter import RecursiveCharacterTextSplitter\n",
    "from langchain_community.document_loaders import WikipediaLoader\n",
    "from langchain_community.graphs import Neo4jGraph\n",
    "from dotenv import load_dotenv"
   ]
  },
  {
   "cell_type": "code",
   "execution_count": 11,
   "metadata": {},
   "outputs": [
    {
     "name": "stderr",
     "output_type": "stream",
     "text": [
      "/var/folders/qc/q94_1y514n3fvqnfz08sykkh0000gn/T/ipykernel_3319/267675202.py:1: LangChainDeprecationWarning: The class `Neo4jGraph` was deprecated in LangChain 0.3.8 and will be removed in 1.0. An updated version of the class exists in the :class:`~langchain-neo4j package and should be used instead. To use it run `pip install -U :class:`~langchain-neo4j` and import as `from :class:`~langchain_neo4j import Neo4jGraph``.\n",
      "  graph = Neo4jGraph()\n"
     ]
    }
   ],
   "source": [
    "graph = Neo4jGraph()"
   ]
  },
  {
   "cell_type": "code",
   "execution_count": 12,
   "metadata": {},
   "outputs": [
    {
     "name": "stdout",
     "output_type": "stream",
     "text": [
      "Loaded 11 pages from the paper\n"
     ]
    }
   ],
   "source": [
    "# Load the paper\n",
    "paper_loader = PyPDFLoader(\"../document/attention-is-all-you-need-Paper.pdf\")\n",
    "paper_documents = paper_loader.load()\n",
    "print(f\"Loaded {len(paper_documents)} pages from the paper\")"
   ]
  },
  {
   "cell_type": "code",
   "execution_count": 16,
   "metadata": {},
   "outputs": [
    {
     "name": "stdout",
     "output_type": "stream",
     "text": [
      "Loaded 25 sections from Wikipedia\n"
     ]
    }
   ],
   "source": [
    "# Load Wikipedia content about Transformer architecture\n",
    "wiki_loader = WikipediaLoader(query=\"Attention Is All You Need\")\n",
    "wiki_documents = wiki_loader.load()\n",
    "print(f\"Loaded {len(wiki_documents)} sections from Wikipedia\")"
   ]
  },
  {
   "cell_type": "code",
   "execution_count": 13,
   "metadata": {},
   "outputs": [
    {
     "name": "stdout",
     "output_type": "stream",
     "text": [
      "Created 11 chunks from all documents\n"
     ]
    }
   ],
   "source": [
    "# Combine documents\n",
    "# all_documents = paper_documents  + wiki_documents\n",
    "all_documents = paper_documents\n",
    "\n",
    "# Split documents into chunks\n",
    "text_splitter = RecursiveCharacterTextSplitter(\n",
    "    chunk_size=5000,\n",
    "    chunk_overlap=500,\n",
    "    length_function=len,\n",
    "    separators=[\"\\n\\n\", \"\\n\", \" \", \"\"]\n",
    ")\n",
    "chunks = text_splitter.split_documents(all_documents)\n",
    "print(f\"Created {len(chunks)} chunks from all documents\")"
   ]
  },
  {
   "cell_type": "code",
   "execution_count": 15,
   "metadata": {},
   "outputs": [
    {
     "ename": "NameError",
     "evalue": "name 'Document' is not defined",
     "output_type": "error",
     "traceback": [
      "\u001b[31m---------------------------------------------------------------------------\u001b[39m",
      "\u001b[31mNameError\u001b[39m                                 Traceback (most recent call last)",
      "\u001b[36mCell\u001b[39m\u001b[36m \u001b[39m\u001b[32mIn[15]\u001b[39m\u001b[32m, line 1\u001b[39m\n\u001b[32m----> \u001b[39m\u001b[32m1\u001b[39m filtered_chunks = [\u001b[43mDocument\u001b[49m(page_content=chunk.page_content) \u001b[38;5;28;01mfor\u001b[39;00m chunk \u001b[38;5;129;01min\u001b[39;00m chunks]\n",
      "\u001b[31mNameError\u001b[39m: name 'Document' is not defined"
     ]
    }
   ],
   "source": [
    "# filtered_chunks = [Document(page_content=chunk.page_content) for chunk in chunks]"
   ]
  },
  {
   "cell_type": "code",
   "execution_count": 16,
   "metadata": {},
   "outputs": [],
   "source": [
    "from langchain_openai import ChatOpenAI\n",
    "llm=ChatOpenAI(temperature=0, model_name=\"gpt-4o-mini\")"
   ]
  },
  {
   "cell_type": "code",
   "execution_count": 17,
   "metadata": {},
   "outputs": [],
   "source": [
    "from langchain_experimental.graph_transformers import LLMGraphTransformer\n",
    "llm_transformer = LLMGraphTransformer(llm=llm)"
   ]
  },
  {
   "cell_type": "code",
   "execution_count": 19,
   "metadata": {},
   "outputs": [],
   "source": [
    "graph_documents = llm_transformer.convert_to_graph_documents(chunks)"
   ]
  },
  {
   "cell_type": "code",
   "execution_count": 20,
   "metadata": {},
   "outputs": [
    {
     "data": {
      "text/plain": [
       "[GraphDocument(nodes=[Node(id='Ashish Vaswani', type='Person', properties={}), Node(id='Noam Shazeer', type='Person', properties={}), Node(id='Niki Parmar', type='Person', properties={}), Node(id='Jakob Uszkoreit', type='Person', properties={}), Node(id='Llion Jones', type='Person', properties={}), Node(id='Aidan N. Gomez', type='Person', properties={}), Node(id='Łukasz Kaiser', type='Person', properties={}), Node(id='Illia Polosukhin', type='Person', properties={}), Node(id='Google Brain', type='Organization', properties={}), Node(id='Google Research', type='Organization', properties={}), Node(id='University Of Toronto', type='Organization', properties={}), Node(id='Transformer', type='Concept', properties={}), Node(id='Wmt 2014 English-To-German Translation Task', type='Task', properties={}), Node(id='Wmt 2014 English-To-French Translation Task', type='Task', properties={})], relationships=[Relationship(source=Node(id='Ashish Vaswani', type='Person', properties={}), target=Node(id='Google Brain', type='Organization', properties={}), type='WORKS_FOR', properties={}), Relationship(source=Node(id='Noam Shazeer', type='Person', properties={}), target=Node(id='Google Brain', type='Organization', properties={}), type='WORKS_FOR', properties={}), Relationship(source=Node(id='Niki Parmar', type='Person', properties={}), target=Node(id='Google Research', type='Organization', properties={}), type='WORKS_FOR', properties={}), Relationship(source=Node(id='Jakob Uszkoreit', type='Person', properties={}), target=Node(id='Google Research', type='Organization', properties={}), type='WORKS_FOR', properties={}), Relationship(source=Node(id='Llion Jones', type='Person', properties={}), target=Node(id='Google Research', type='Organization', properties={}), type='WORKS_FOR', properties={}), Relationship(source=Node(id='Aidan N. Gomez', type='Person', properties={}), target=Node(id='University Of Toronto', type='Organization', properties={}), type='WORKS_FOR', properties={}), Relationship(source=Node(id='Łukasz Kaiser', type='Person', properties={}), target=Node(id='Google Brain', type='Organization', properties={}), type='WORKS_FOR', properties={}), Relationship(source=Node(id='Illia Polosukhin', type='Person', properties={}), target=Node(id='Google Research', type='Organization', properties={}), type='WORKS_FOR', properties={}), Relationship(source=Node(id='Transformer', type='Concept', properties={}), target=Node(id='Wmt 2014 English-To-German Translation Task', type='Task', properties={}), type='APPLIES_TO', properties={}), Relationship(source=Node(id='Transformer', type='Concept', properties={}), target=Node(id='Wmt 2014 English-To-French Translation Task', type='Task', properties={}), type='APPLIES_TO', properties={})], source=Document(metadata={'producer': 'PyPDF2', 'creator': 'PyPDF', 'creationdate': '', 'subject': 'Neural Information Processing Systems http://nips.cc/', 'publisher': 'Curran Associates, Inc.', 'language': 'en-US', 'created': '2017', 'eventtype': 'Poster', 'description-abstract': 'The dominant sequence transduction models are based on complex recurrent orconvolutional neural networks in an encoder and decoder configuration. The best performing such models also connect the encoder and decoder through an attentionm echanisms.  We propose a novel, simple network architecture based solely onan attention mechanism, dispensing with recurrence and convolutions entirely.Experiments on two machine translation tasks show these models to be superiorin quality while being more parallelizable and requiring significantly less timeto train. Our single model with 165 million parameters, achieves 27.5 BLEU onEnglish-to-German translation, improving over the existing best ensemble result by over 1 BLEU. On English-to-French translation, we outperform the previoussingle state-of-the-art with model by 0.7 BLEU, achieving a BLEU score of 41.1.', 'title': 'Attention is All you Need', 'date': '2017', 'moddate': '2018-02-12T21:22:10-08:00', 'published': '2017', 'type': 'Conference Proceedings', 'firstpage': '5998', 'book': 'Advances in Neural Information Processing Systems 30', 'description': 'Paper accepted and presented at the Neural Information Processing Systems Conference (http://nips.cc/)', 'editors': 'I. Guyon and U.V. Luxburg and S. Bengio and H. Wallach and R. Fergus and S. Vishwanathan and R. Garnett', 'author': 'Ashish Vaswani, Noam Shazeer, Niki Parmar, Jakob Uszkoreit, Llion Jones, Aidan N. Gomez, Łukasz Kaiser, Illia Polosukhin', 'lastpage': '6008', 'source': '../document/attention-is-all-you-need-Paper.pdf', 'total_pages': 11, 'page': 0, 'page_label': '1'}, page_content='Attention Is All You Need\\nAshish Vaswani∗\\nGoogle Brain\\navaswani@google.com\\nNoam Shazeer∗\\nGoogle Brain\\nnoam@google.com\\nNiki Parmar∗\\nGoogle Research\\nnikip@google.com\\nJakob Uszkoreit∗\\nGoogle Research\\nusz@google.com\\nLlion Jones∗\\nGoogle Research\\nllion@google.com\\nAidan N. Gomez∗†\\nUniversity of Toronto\\naidan@cs.toronto.edu\\nŁukasz Kaiser ∗\\nGoogle Brain\\nlukaszkaiser@google.com\\nIllia Polosukhin∗‡\\nillia.polosukhin@gmail.com\\nAbstract\\nThe dominant sequence transduction models are based on complex recurrent or\\nconvolutional neural networks that include an encoder and a decoder. The best\\nperforming models also connect the encoder and decoder through an attention\\nmechanism. We propose a new simple network architecture, the Transformer,\\nbased solely on attention mechanisms, dispensing with recurrence and convolutions\\nentirely. Experiments on two machine translation tasks show these models to\\nbe superior in quality while being more parallelizable and requiring signiﬁcantly\\nless time to train. Our model achieves 28.4 BLEU on the WMT 2014 English-\\nto-German translation task, improving over the existing best results, including\\nensembles, by over 2 BLEU. On the WMT 2014 English-to-French translation task,\\nour model establishes a new single-model state-of-the-art BLEU score of 41.0 after\\ntraining for 3.5 days on eight GPUs, a small fraction of the training costs of the\\nbest models from the literature.\\n1 Introduction\\nRecurrent neural networks, long short-term memory [12] and gated recurrent [7] neural networks\\nin particular, have been ﬁrmly established as state of the art approaches in sequence modeling and\\ntransduction problems such as language modeling and machine translation [ 29, 2, 5]. Numerous\\nefforts have since continued to push the boundaries of recurrent language models and encoder-decoder\\narchitectures [31, 21, 13].\\n∗Equal contribution. Listing order is random. Jakob proposed replacing RNNs with self-attention and started\\nthe effort to evaluate this idea. Ashish, with Illia, designed and implemented the ﬁrst Transformer models and\\nhas been crucially involved in every aspect of this work. Noam proposed scaled dot-product attention, multi-head\\nattention and the parameter-free position representation and became the other person involved in nearly every\\ndetail. Niki designed, implemented, tuned and evaluated countless model variants in our original codebase and\\ntensor2tensor. Llion also experimented with novel model variants, was responsible for our initial codebase, and\\nefﬁcient inference and visualizations. Lukasz and Aidan spent countless long days designing various parts of and\\nimplementing tensor2tensor, replacing our earlier codebase, greatly improving results and massively accelerating\\nour research.\\n†Work performed while at Google Brain.\\n‡Work performed while at Google Research.\\n31st Conference on Neural Information Processing Systems (NIPS 2017), Long Beach, CA, USA.')),\n",
       " GraphDocument(nodes=[Node(id='Recurrent Models', type='Model', properties={}), Node(id='Attention Mechanisms', type='Mechanism', properties={}), Node(id='Transformer', type='Model', properties={}), Node(id='Extended Neural Gpu', type='Model', properties={}), Node(id='Bytenet', type='Model', properties={}), Node(id='Convs2S', type='Model', properties={}), Node(id='Self-Attention', type='Mechanism', properties={}), Node(id='End-To-End Memory Networks', type='Model', properties={}), Node(id='Encoder-Decoder Structure', type='Architecture', properties={}), Node(id='Encoder', type='Component', properties={}), Node(id='Decoder', type='Component', properties={})], relationships=[Relationship(source=Node(id='Recurrent Models', type='Model', properties={}), target=Node(id='Attention Mechanisms', type='Mechanism', properties={}), type='USES', properties={}), Relationship(source=Node(id='Attention Mechanisms', type='Mechanism', properties={}), target=Node(id='Transformer', type='Model', properties={}), type='INTEGRAL_PART_OF', properties={}), Relationship(source=Node(id='Transformer', type='Model', properties={}), target=Node(id='Extended Neural Gpu', type='Model', properties={}), type='RELATED_TO', properties={}), Relationship(source=Node(id='Transformer', type='Model', properties={}), target=Node(id='Bytenet', type='Model', properties={}), type='RELATED_TO', properties={}), Relationship(source=Node(id='Transformer', type='Model', properties={}), target=Node(id='Convs2S', type='Model', properties={}), type='RELATED_TO', properties={}), Relationship(source=Node(id='Self-Attention', type='Mechanism', properties={}), target=Node(id='Transformer', type='Model', properties={}), type='USED_IN', properties={}), Relationship(source=Node(id='End-To-End Memory Networks', type='Model', properties={}), target=Node(id='Self-Attention', type='Mechanism', properties={}), type='BASED_ON', properties={}), Relationship(source=Node(id='Encoder-Decoder Structure', type='Architecture', properties={}), target=Node(id='Encoder', type='Component', properties={}), type='COMPOSED_OF', properties={}), Relationship(source=Node(id='Encoder-Decoder Structure', type='Architecture', properties={}), target=Node(id='Decoder', type='Component', properties={}), type='COMPOSED_OF', properties={}), Relationship(source=Node(id='Encoder', type='Component', properties={}), target=Node(id='Decoder', type='Component', properties={}), type='INTERACTS_WITH', properties={})], source=Document(metadata={'producer': 'PyPDF2', 'creator': 'PyPDF', 'creationdate': '', 'subject': 'Neural Information Processing Systems http://nips.cc/', 'publisher': 'Curran Associates, Inc.', 'language': 'en-US', 'created': '2017', 'eventtype': 'Poster', 'description-abstract': 'The dominant sequence transduction models are based on complex recurrent orconvolutional neural networks in an encoder and decoder configuration. The best performing such models also connect the encoder and decoder through an attentionm echanisms.  We propose a novel, simple network architecture based solely onan attention mechanism, dispensing with recurrence and convolutions entirely.Experiments on two machine translation tasks show these models to be superiorin quality while being more parallelizable and requiring significantly less timeto train. Our single model with 165 million parameters, achieves 27.5 BLEU onEnglish-to-German translation, improving over the existing best ensemble result by over 1 BLEU. On English-to-French translation, we outperform the previoussingle state-of-the-art with model by 0.7 BLEU, achieving a BLEU score of 41.1.', 'title': 'Attention is All you Need', 'date': '2017', 'moddate': '2018-02-12T21:22:10-08:00', 'published': '2017', 'type': 'Conference Proceedings', 'firstpage': '5998', 'book': 'Advances in Neural Information Processing Systems 30', 'description': 'Paper accepted and presented at the Neural Information Processing Systems Conference (http://nips.cc/)', 'editors': 'I. Guyon and U.V. Luxburg and S. Bengio and H. Wallach and R. Fergus and S. Vishwanathan and R. Garnett', 'author': 'Ashish Vaswani, Noam Shazeer, Niki Parmar, Jakob Uszkoreit, Llion Jones, Aidan N. Gomez, Łukasz Kaiser, Illia Polosukhin', 'lastpage': '6008', 'source': '../document/attention-is-all-you-need-Paper.pdf', 'total_pages': 11, 'page': 1, 'page_label': '2'}, page_content='Recurrent models typically factor computation along the symbol positions of the input and output\\nsequences. Aligning the positions to steps in computation time, they generate a sequence of hidden\\nstates ht, as a function of the previous hidden state ht−1 and the input for position t. This inherently\\nsequential nature precludes parallelization within training examples, which becomes critical at longer\\nsequence lengths, as memory constraints limit batching across examples. Recent work has achieved\\nsigniﬁcant improvements in computational efﬁciency through factorization tricks [18] and conditional\\ncomputation [26], while also improving model performance in case of the latter. The fundamental\\nconstraint of sequential computation, however, remains.\\nAttention mechanisms have become an integral part of compelling sequence modeling and transduc-\\ntion models in various tasks, allowing modeling of dependencies without regard to their distance in\\nthe input or output sequences [2, 16]. In all but a few cases [22], however, such attention mechanisms\\nare used in conjunction with a recurrent network.\\nIn this work we propose the Transformer, a model architecture eschewing recurrence and instead\\nrelying entirely on an attention mechanism to draw global dependencies between input and output.\\nThe Transformer allows for signiﬁcantly more parallelization and can reach a new state of the art in\\ntranslation quality after being trained for as little as twelve hours on eight P100 GPUs.\\n2 Background\\nThe goal of reducing sequential computation also forms the foundation of the Extended Neural GPU\\n[20], ByteNet [15] and ConvS2S [8], all of which use convolutional neural networks as basic building\\nblock, computing hidden representations in parallel for all input and output positions. In these models,\\nthe number of operations required to relate signals from two arbitrary input or output positions grows\\nin the distance between positions, linearly for ConvS2S and logarithmically for ByteNet. This makes\\nit more difﬁcult to learn dependencies between distant positions [ 11]. In the Transformer this is\\nreduced to a constant number of operations, albeit at the cost of reduced effective resolution due\\nto averaging attention-weighted positions, an effect we counteract with Multi-Head Attention as\\ndescribed in section 3.2.\\nSelf-attention, sometimes called intra-attention is an attention mechanism relating different positions\\nof a single sequence in order to compute a representation of the sequence. Self-attention has been\\nused successfully in a variety of tasks including reading comprehension, abstractive summarization,\\ntextual entailment and learning task-independent sentence representations [4, 22, 23, 19].\\nEnd-to-end memory networks are based on a recurrent attention mechanism instead of sequence-\\naligned recurrence and have been shown to perform well on simple-language question answering and\\nlanguage modeling tasks [28].\\nTo the best of our knowledge, however, the Transformer is the ﬁrst transduction model relying\\nentirely on self-attention to compute representations of its input and output without using sequence-\\naligned RNNs or convolution. In the following sections, we will describe the Transformer, motivate\\nself-attention and discuss its advantages over models such as [14, 15] and [8].\\n3 Model Architecture\\nMost competitive neural sequence transduction models have an encoder-decoder structure [5, 2, 29].\\nHere, the encoder maps an input sequence of symbol representations (x1,...,x n) to a sequence\\nof continuous representations z = (z1,...,z n). Given z, the decoder then generates an output\\nsequence (y1,...,y m) of symbols one element at a time. At each step the model is auto-regressive\\n[9], consuming the previously generated symbols as additional input when generating the next.\\nThe Transformer follows this overall architecture using stacked self-attention and point-wise, fully\\nconnected layers for both the encoder and decoder, shown in the left and right halves of Figure 1,\\nrespectively.\\n3.1 Encoder and Decoder Stacks\\nEncoder: The encoder is composed of a stack of N = 6 identical layers. Each layer has two\\nsub-layers. The ﬁrst is a multi-head self-attention mechanism, and the second is a simple, position-\\n2')),\n",
       " GraphDocument(nodes=[Node(id='Transformer', type='Model', properties={}), Node(id='Feed-Forward Network', type='Network', properties={}), Node(id='Residual Connection', type='Connection', properties={}), Node(id='Layer Normalization', type='Normalization', properties={}), Node(id='Sublayer', type='Function', properties={}), Node(id='Decoder', type='Component', properties={}), Node(id='Encoder', type='Component', properties={}), Node(id='Multi-Head Attention', type='Attention', properties={}), Node(id='Attention Function', type='Function', properties={}), Node(id='Scaled Dot-Product Attention', type='Attention', properties={})], relationships=[Relationship(source=Node(id='Transformer', type='Model', properties={}), target=Node(id='Feed-Forward Network', type='Network', properties={}), type='COMPOSED_OF', properties={}), Relationship(source=Node(id='Transformer', type='Model', properties={}), target=Node(id='Residual Connection', type='Connection', properties={}), type='USES', properties={}), Relationship(source=Node(id='Transformer', type='Model', properties={}), target=Node(id='Layer Normalization', type='Normalization', properties={}), type='USES', properties={}), Relationship(source=Node(id='Transformer', type='Model', properties={}), target=Node(id='Sublayer', type='Function', properties={}), type='IMPLEMENTS', properties={}), Relationship(source=Node(id='Decoder', type='Component', properties={}), target=Node(id='Encoder', type='Component', properties={}), type='INTERACTS_WITH', properties={}), Relationship(source=Node(id='Decoder', type='Component', properties={}), target=Node(id='Multi-Head Attention', type='Attention', properties={}), type='INCLUDES', properties={}), Relationship(source=Node(id='Attention Function', type='Function', properties={}), target=Node(id='Scaled Dot-Product Attention', type='Attention', properties={}), type='IS_A', properties={})], source=Document(metadata={'producer': 'PyPDF2', 'creator': 'PyPDF', 'creationdate': '', 'subject': 'Neural Information Processing Systems http://nips.cc/', 'publisher': 'Curran Associates, Inc.', 'language': 'en-US', 'created': '2017', 'eventtype': 'Poster', 'description-abstract': 'The dominant sequence transduction models are based on complex recurrent orconvolutional neural networks in an encoder and decoder configuration. The best performing such models also connect the encoder and decoder through an attentionm echanisms.  We propose a novel, simple network architecture based solely onan attention mechanism, dispensing with recurrence and convolutions entirely.Experiments on two machine translation tasks show these models to be superiorin quality while being more parallelizable and requiring significantly less timeto train. Our single model with 165 million parameters, achieves 27.5 BLEU onEnglish-to-German translation, improving over the existing best ensemble result by over 1 BLEU. On English-to-French translation, we outperform the previoussingle state-of-the-art with model by 0.7 BLEU, achieving a BLEU score of 41.1.', 'title': 'Attention is All you Need', 'date': '2017', 'moddate': '2018-02-12T21:22:10-08:00', 'published': '2017', 'type': 'Conference Proceedings', 'firstpage': '5998', 'book': 'Advances in Neural Information Processing Systems 30', 'description': 'Paper accepted and presented at the Neural Information Processing Systems Conference (http://nips.cc/)', 'editors': 'I. Guyon and U.V. Luxburg and S. Bengio and H. Wallach and R. Fergus and S. Vishwanathan and R. Garnett', 'author': 'Ashish Vaswani, Noam Shazeer, Niki Parmar, Jakob Uszkoreit, Llion Jones, Aidan N. Gomez, Łukasz Kaiser, Illia Polosukhin', 'lastpage': '6008', 'source': '../document/attention-is-all-you-need-Paper.pdf', 'total_pages': 11, 'page': 2, 'page_label': '3'}, page_content='Figure 1: The Transformer - model architecture.\\nwise fully connected feed-forward network. We employ a residual connection [10] around each of\\nthe two sub-layers, followed by layer normalization [ 1]. That is, the output of each sub-layer is\\nLayerNorm(x+ Sublayer(x)), where Sublayer(x) is the function implemented by the sub-layer\\nitself. To facilitate these residual connections, all sub-layers in the model, as well as the embedding\\nlayers, produce outputs of dimension dmodel = 512.\\nDecoder: The decoder is also composed of a stack of N = 6identical layers. In addition to the two\\nsub-layers in each encoder layer, the decoder inserts a third sub-layer, which performs multi-head\\nattention over the output of the encoder stack. Similar to the encoder, we employ residual connections\\naround each of the sub-layers, followed by layer normalization. We also modify the self-attention\\nsub-layer in the decoder stack to prevent positions from attending to subsequent positions. This\\nmasking, combined with fact that the output embeddings are offset by one position, ensures that the\\npredictions for position ican depend only on the known outputs at positions less than i.\\n3.2 Attention\\nAn attention function can be described as mapping a query and a set of key-value pairs to an output,\\nwhere the query, keys, values, and output are all vectors. The output is computed as a weighted sum\\nof the values, where the weight assigned to each value is computed by a compatibility function of the\\nquery with the corresponding key.\\n3.2.1 Scaled Dot-Product Attention\\nWe call our particular attention \"Scaled Dot-Product Attention\" (Figure 2). The input consists of\\nqueries and keys of dimension dk, and values of dimension dv. We compute the dot products of the\\n3')),\n",
       " GraphDocument(nodes=[Node(id='Scaled Dot-Product Attention', type='Concept', properties={}), Node(id='Multi-Head Attention', type='Concept', properties={}), Node(id='Attention Function', type='Concept', properties={}), Node(id='Additive Attention', type='Concept', properties={}), Node(id='Dot-Product Attention', type='Concept', properties={}), Node(id='Matrix Q', type='Concept', properties={}), Node(id='Matrix K', type='Concept', properties={}), Node(id='Matrix V', type='Concept', properties={}), Node(id='D_K', type='Variable', properties={}), Node(id='D_Model', type='Variable', properties={}), Node(id='D_V', type='Variable', properties={})], relationships=[Relationship(source=Node(id='Multi-Head Attention', type='Concept', properties={}), target=Node(id='Scaled Dot-Product Attention', type='Concept', properties={}), type='CONTAINS', properties={}), Relationship(source=Node(id='Attention Function', type='Concept', properties={}), target=Node(id='Matrix Q', type='Concept', properties={}), type='USES', properties={}), Relationship(source=Node(id='Attention Function', type='Concept', properties={}), target=Node(id='Matrix K', type='Concept', properties={}), type='USES', properties={}), Relationship(source=Node(id='Attention Function', type='Concept', properties={}), target=Node(id='Matrix V', type='Concept', properties={}), type='USES', properties={}), Relationship(source=Node(id='Dot-Product Attention', type='Concept', properties={}), target=Node(id='D_K', type='Variable', properties={}), type='RELATED_TO', properties={}), Relationship(source=Node(id='Additive Attention', type='Concept', properties={}), target=Node(id='D_K', type='Variable', properties={}), type='RELATED_TO', properties={}), Relationship(source=Node(id='Multi-Head Attention', type='Concept', properties={}), target=Node(id='D_Model', type='Variable', properties={}), type='RELATED_TO', properties={}), Relationship(source=Node(id='Multi-Head Attention', type='Concept', properties={}), target=Node(id='D_V', type='Variable', properties={}), type='RELATED_TO', properties={})], source=Document(metadata={'producer': 'PyPDF2', 'creator': 'PyPDF', 'creationdate': '', 'subject': 'Neural Information Processing Systems http://nips.cc/', 'publisher': 'Curran Associates, Inc.', 'language': 'en-US', 'created': '2017', 'eventtype': 'Poster', 'description-abstract': 'The dominant sequence transduction models are based on complex recurrent orconvolutional neural networks in an encoder and decoder configuration. The best performing such models also connect the encoder and decoder through an attentionm echanisms.  We propose a novel, simple network architecture based solely onan attention mechanism, dispensing with recurrence and convolutions entirely.Experiments on two machine translation tasks show these models to be superiorin quality while being more parallelizable and requiring significantly less timeto train. Our single model with 165 million parameters, achieves 27.5 BLEU onEnglish-to-German translation, improving over the existing best ensemble result by over 1 BLEU. On English-to-French translation, we outperform the previoussingle state-of-the-art with model by 0.7 BLEU, achieving a BLEU score of 41.1.', 'title': 'Attention is All you Need', 'date': '2017', 'moddate': '2018-02-12T21:22:10-08:00', 'published': '2017', 'type': 'Conference Proceedings', 'firstpage': '5998', 'book': 'Advances in Neural Information Processing Systems 30', 'description': 'Paper accepted and presented at the Neural Information Processing Systems Conference (http://nips.cc/)', 'editors': 'I. Guyon and U.V. Luxburg and S. Bengio and H. Wallach and R. Fergus and S. Vishwanathan and R. Garnett', 'author': 'Ashish Vaswani, Noam Shazeer, Niki Parmar, Jakob Uszkoreit, Llion Jones, Aidan N. Gomez, Łukasz Kaiser, Illia Polosukhin', 'lastpage': '6008', 'source': '../document/attention-is-all-you-need-Paper.pdf', 'total_pages': 11, 'page': 3, 'page_label': '4'}, page_content='Scaled Dot-Product Attention\\n Multi-Head Attention\\nFigure 2: (left) Scaled Dot-Product Attention. (right) Multi-Head Attention consists of several\\nattention layers running in parallel.\\nquery with all keys, divide each by √dk, and apply a softmax function to obtain the weights on the\\nvalues.\\nIn practice, we compute the attention function on a set of queries simultaneously, packed together\\ninto a matrix Q. The keys and values are also packed together into matrices Kand V. We compute\\nthe matrix of outputs as:\\nAttention(Q,K,V ) = softmax(QKT\\n√dk\\n)V (1)\\nThe two most commonly used attention functions are additive attention [2], and dot-product (multi-\\nplicative) attention. Dot-product attention is identical to our algorithm, except for the scaling factor\\nof 1√dk\\n. Additive attention computes the compatibility function using a feed-forward network with\\na single hidden layer. While the two are similar in theoretical complexity, dot-product attention is\\nmuch faster and more space-efﬁcient in practice, since it can be implemented using highly optimized\\nmatrix multiplication code.\\nWhile for small values of dk the two mechanisms perform similarly, additive attention outperforms\\ndot product attention without scaling for larger values of dk [3]. We suspect that for large values of\\ndk, the dot products grow large in magnitude, pushing the softmax function into regions where it has\\nextremely small gradients 4. To counteract this effect, we scale the dot products by 1√dk\\n.\\n3.2.2 Multi-Head Attention\\nInstead of performing a single attention function with dmodel-dimensional keys, values and queries,\\nwe found it beneﬁcial to linearly project the queries, keys and values htimes with different, learned\\nlinear projections to dk, dk and dv dimensions, respectively. On each of these projected versions of\\nqueries, keys and values we then perform the attention function in parallel, yielding dv-dimensional\\noutput values. These are concatenated and once again projected, resulting in the ﬁnal values, as\\ndepicted in Figure 2.\\nMulti-head attention allows the model to jointly attend to information from different representation\\nsubspaces at different positions. With a single attention head, averaging inhibits this.\\n4To illustrate why the dot products get large, assume that the components of q and k are independent random\\nvariables with mean 0 and variance 1. Then their dot product, q · k = ∑dk\\ni=1 qiki, has mean 0 and variance dk.\\n4')),\n",
       " GraphDocument(nodes=[Node(id='Multihead', type='Function', properties={}), Node(id='Attention', type='Function', properties={}), Node(id='Encoder-Decoder Attention', type='Layer', properties={}), Node(id='Self-Attention Layer', type='Layer', properties={}), Node(id='Feed-Forward Network', type='Network', properties={}), Node(id='Positional Encoding', type='Encoding', properties={}), Node(id='Q', type='Matrix', properties={}), Node(id='K', type='Matrix', properties={}), Node(id='V', type='Matrix', properties={}), Node(id='Wq', type='Matrix', properties={}), Node(id='Wk', type='Matrix', properties={}), Node(id='Wv', type='Matrix', properties={}), Node(id='Wo', type='Matrix', properties={}), Node(id='Dmodel', type='Dimension', properties={}), Node(id='Dk', type='Dimension', properties={}), Node(id='Dv', type='Dimension', properties={}), Node(id='H', type='Integer', properties={}), Node(id='B1', type='Bias', properties={}), Node(id='B2', type='Bias', properties={}), Node(id='W1', type='Matrix', properties={}), Node(id='W2', type='Matrix', properties={})], relationships=[Relationship(source=Node(id='Multihead', type='Function', properties={}), target=Node(id='Attention', type='Function', properties={}), type='USES', properties={}), Relationship(source=Node(id='Attention', type='Function', properties={}), target=Node(id='Q', type='Matrix', properties={}), type='USES', properties={}), Relationship(source=Node(id='Attention', type='Function', properties={}), target=Node(id='K', type='Matrix', properties={}), type='USES', properties={}), Relationship(source=Node(id='Attention', type='Function', properties={}), target=Node(id='V', type='Matrix', properties={}), type='USES', properties={}), Relationship(source=Node(id='Encoder-Decoder Attention', type='Layer', properties={}), target=Node(id='Q', type='Matrix', properties={}), type='USES', properties={}), Relationship(source=Node(id='Encoder-Decoder Attention', type='Layer', properties={}), target=Node(id='K', type='Matrix', properties={}), type='USES', properties={}), Relationship(source=Node(id='Encoder-Decoder Attention', type='Layer', properties={}), target=Node(id='V', type='Matrix', properties={}), type='USES', properties={}), Relationship(source=Node(id='Self-Attention Layer', type='Layer', properties={}), target=Node(id='K', type='Matrix', properties={}), type='USES', properties={}), Relationship(source=Node(id='Self-Attention Layer', type='Layer', properties={}), target=Node(id='V', type='Matrix', properties={}), type='USES', properties={}), Relationship(source=Node(id='Self-Attention Layer', type='Layer', properties={}), target=Node(id='Q', type='Matrix', properties={}), type='USES', properties={}), Relationship(source=Node(id='Feed-Forward Network', type='Network', properties={}), target=Node(id='W1', type='Matrix', properties={}), type='USES', properties={}), Relationship(source=Node(id='Feed-Forward Network', type='Network', properties={}), target=Node(id='W2', type='Matrix', properties={}), type='USES', properties={}), Relationship(source=Node(id='Feed-Forward Network', type='Network', properties={}), target=Node(id='B1', type='Bias', properties={}), type='USES', properties={}), Relationship(source=Node(id='Feed-Forward Network', type='Network', properties={}), target=Node(id='B2', type='Bias', properties={}), type='USES', properties={}), Relationship(source=Node(id='Positional Encoding', type='Encoding', properties={}), target=Node(id='Dmodel', type='Dimension', properties={}), type='USES', properties={})], source=Document(metadata={'producer': 'PyPDF2', 'creator': 'PyPDF', 'creationdate': '', 'subject': 'Neural Information Processing Systems http://nips.cc/', 'publisher': 'Curran Associates, Inc.', 'language': 'en-US', 'created': '2017', 'eventtype': 'Poster', 'description-abstract': 'The dominant sequence transduction models are based on complex recurrent orconvolutional neural networks in an encoder and decoder configuration. The best performing such models also connect the encoder and decoder through an attentionm echanisms.  We propose a novel, simple network architecture based solely onan attention mechanism, dispensing with recurrence and convolutions entirely.Experiments on two machine translation tasks show these models to be superiorin quality while being more parallelizable and requiring significantly less timeto train. Our single model with 165 million parameters, achieves 27.5 BLEU onEnglish-to-German translation, improving over the existing best ensemble result by over 1 BLEU. On English-to-French translation, we outperform the previoussingle state-of-the-art with model by 0.7 BLEU, achieving a BLEU score of 41.1.', 'title': 'Attention is All you Need', 'date': '2017', 'moddate': '2018-02-12T21:22:10-08:00', 'published': '2017', 'type': 'Conference Proceedings', 'firstpage': '5998', 'book': 'Advances in Neural Information Processing Systems 30', 'description': 'Paper accepted and presented at the Neural Information Processing Systems Conference (http://nips.cc/)', 'editors': 'I. Guyon and U.V. Luxburg and S. Bengio and H. Wallach and R. Fergus and S. Vishwanathan and R. Garnett', 'author': 'Ashish Vaswani, Noam Shazeer, Niki Parmar, Jakob Uszkoreit, Llion Jones, Aidan N. Gomez, Łukasz Kaiser, Illia Polosukhin', 'lastpage': '6008', 'source': '../document/attention-is-all-you-need-Paper.pdf', 'total_pages': 11, 'page': 4, 'page_label': '5'}, page_content='MultiHead(Q,K,V ) = Concat(head1,..., headh)WO\\nwhere headi = Attention(QWQ\\ni ,KW K\\ni ,VW V\\ni )\\nWhere the projections are parameter matricesWQ\\ni ∈Rdmodel×dk , WK\\ni ∈Rdmodel×dk , WV\\ni ∈Rdmodel×dv\\nand WO ∈Rhdv×dmodel .\\nIn this work we employ h = 8 parallel attention layers, or heads. For each of these we use\\ndk = dv = dmodel/h= 64. Due to the reduced dimension of each head, the total computational cost\\nis similar to that of single-head attention with full dimensionality.\\n3.2.3 Applications of Attention in our Model\\nThe Transformer uses multi-head attention in three different ways:\\n• In \"encoder-decoder attention\" layers, the queries come from the previous decoder layer,\\nand the memory keys and values come from the output of the encoder. This allows every\\nposition in the decoder to attend over all positions in the input sequence. This mimics the\\ntypical encoder-decoder attention mechanisms in sequence-to-sequence models such as\\n[31, 2, 8].\\n• The encoder contains self-attention layers. In a self-attention layer all of the keys, values\\nand queries come from the same place, in this case, the output of the previous layer in the\\nencoder. Each position in the encoder can attend to all positions in the previous layer of the\\nencoder.\\n• Similarly, self-attention layers in the decoder allow each position in the decoder to attend to\\nall positions in the decoder up to and including that position. We need to prevent leftward\\ninformation ﬂow in the decoder to preserve the auto-regressive property. We implement this\\ninside of scaled dot-product attention by masking out (setting to −∞) all values in the input\\nof the softmax which correspond to illegal connections. See Figure 2.\\n3.3 Position-wise Feed-Forward Networks\\nIn addition to attention sub-layers, each of the layers in our encoder and decoder contains a fully\\nconnected feed-forward network, which is applied to each position separately and identically. This\\nconsists of two linear transformations with a ReLU activation in between.\\nFFN(x) = max(0,xW1 + b1)W2 + b2 (2)\\nWhile the linear transformations are the same across different positions, they use different parameters\\nfrom layer to layer. Another way of describing this is as two convolutions with kernel size 1.\\nThe dimensionality of input and output is dmodel = 512, and the inner-layer has dimensionality\\ndff = 2048.\\n3.4 Embeddings and Softmax\\nSimilarly to other sequence transduction models, we use learned embeddings to convert the input\\ntokens and output tokens to vectors of dimension dmodel. We also use the usual learned linear transfor-\\nmation and softmax function to convert the decoder output to predicted next-token probabilities. In\\nour model, we share the same weight matrix between the two embedding layers and the pre-softmax\\nlinear transformation, similar to [24]. In the embedding layers, we multiply those weights by √dmodel.\\n3.5 Positional Encoding\\nSince our model contains no recurrence and no convolution, in order for the model to make use of the\\norder of the sequence, we must inject some information about the relative or absolute position of the\\ntokens in the sequence. To this end, we add \"positional encodings\" to the input embeddings at the\\n5')),\n",
       " GraphDocument(nodes=[Node(id='Self-Attention', type='Layer type', properties={}), Node(id='Recurrent', type='Layer type', properties={}), Node(id='Convolutional', type='Layer type', properties={}), Node(id='Self-Attention (Restricted)', type='Layer type', properties={}), Node(id='Complexity Per Layer', type='Concept', properties={}), Node(id='Sequential Operations', type='Concept', properties={}), Node(id='Maximum Path Length', type='Concept', properties={}), Node(id='Positional Encodings', type='Concept', properties={}), Node(id='Sine And Cosine Functions', type='Concept', properties={}), Node(id='Learned Positional Embeddings', type='Concept', properties={}), Node(id='Long-Range Dependencies', type='Concept', properties={})], relationships=[Relationship(source=Node(id='Self-Attention', type='Layer type', properties={}), target=Node(id='Complexity Per Layer', type='Concept', properties={}), type='HAS_COMPLEXITY', properties={}), Relationship(source=Node(id='Self-Attention', type='Layer type', properties={}), target=Node(id='Sequential Operations', type='Concept', properties={}), type='HAS_SEQUENTIAL_OPERATIONS', properties={}), Relationship(source=Node(id='Self-Attention', type='Layer type', properties={}), target=Node(id='Maximum Path Length', type='Concept', properties={}), type='HAS_MAXIMUM_PATH_LENGTH', properties={}), Relationship(source=Node(id='Recurrent', type='Layer type', properties={}), target=Node(id='Complexity Per Layer', type='Concept', properties={}), type='HAS_COMPLEXITY', properties={}), Relationship(source=Node(id='Recurrent', type='Layer type', properties={}), target=Node(id='Sequential Operations', type='Concept', properties={}), type='HAS_SEQUENTIAL_OPERATIONS', properties={}), Relationship(source=Node(id='Recurrent', type='Layer type', properties={}), target=Node(id='Maximum Path Length', type='Concept', properties={}), type='HAS_MAXIMUM_PATH_LENGTH', properties={}), Relationship(source=Node(id='Convolutional', type='Layer type', properties={}), target=Node(id='Complexity Per Layer', type='Concept', properties={}), type='HAS_COMPLEXITY', properties={}), Relationship(source=Node(id='Convolutional', type='Layer type', properties={}), target=Node(id='Sequential Operations', type='Concept', properties={}), type='HAS_SEQUENTIAL_OPERATIONS', properties={}), Relationship(source=Node(id='Convolutional', type='Layer type', properties={}), target=Node(id='Maximum Path Length', type='Concept', properties={}), type='HAS_MAXIMUM_PATH_LENGTH', properties={}), Relationship(source=Node(id='Self-Attention (Restricted)', type='Layer type', properties={}), target=Node(id='Complexity Per Layer', type='Concept', properties={}), type='HAS_COMPLEXITY', properties={}), Relationship(source=Node(id='Self-Attention (Restricted)', type='Layer type', properties={}), target=Node(id='Sequential Operations', type='Concept', properties={}), type='HAS_SEQUENTIAL_OPERATIONS', properties={}), Relationship(source=Node(id='Self-Attention (Restricted)', type='Layer type', properties={}), target=Node(id='Maximum Path Length', type='Concept', properties={}), type='HAS_MAXIMUM_PATH_LENGTH', properties={}), Relationship(source=Node(id='Positional Encodings', type='Concept', properties={}), target=Node(id='Sine And Cosine Functions', type='Concept', properties={}), type='USES', properties={}), Relationship(source=Node(id='Positional Encodings', type='Concept', properties={}), target=Node(id='Learned Positional Embeddings', type='Concept', properties={}), type='EXPERIMENTED_WITH', properties={}), Relationship(source=Node(id='Long-Range Dependencies', type='Concept', properties={}), target=Node(id='Maximum Path Length', type='Concept', properties={}), type='AFFECTED_BY', properties={})], source=Document(metadata={'producer': 'PyPDF2', 'creator': 'PyPDF', 'creationdate': '', 'subject': 'Neural Information Processing Systems http://nips.cc/', 'publisher': 'Curran Associates, Inc.', 'language': 'en-US', 'created': '2017', 'eventtype': 'Poster', 'description-abstract': 'The dominant sequence transduction models are based on complex recurrent orconvolutional neural networks in an encoder and decoder configuration. The best performing such models also connect the encoder and decoder through an attentionm echanisms.  We propose a novel, simple network architecture based solely onan attention mechanism, dispensing with recurrence and convolutions entirely.Experiments on two machine translation tasks show these models to be superiorin quality while being more parallelizable and requiring significantly less timeto train. Our single model with 165 million parameters, achieves 27.5 BLEU onEnglish-to-German translation, improving over the existing best ensemble result by over 1 BLEU. On English-to-French translation, we outperform the previoussingle state-of-the-art with model by 0.7 BLEU, achieving a BLEU score of 41.1.', 'title': 'Attention is All you Need', 'date': '2017', 'moddate': '2018-02-12T21:22:10-08:00', 'published': '2017', 'type': 'Conference Proceedings', 'firstpage': '5998', 'book': 'Advances in Neural Information Processing Systems 30', 'description': 'Paper accepted and presented at the Neural Information Processing Systems Conference (http://nips.cc/)', 'editors': 'I. Guyon and U.V. Luxburg and S. Bengio and H. Wallach and R. Fergus and S. Vishwanathan and R. Garnett', 'author': 'Ashish Vaswani, Noam Shazeer, Niki Parmar, Jakob Uszkoreit, Llion Jones, Aidan N. Gomez, Łukasz Kaiser, Illia Polosukhin', 'lastpage': '6008', 'source': '../document/attention-is-all-you-need-Paper.pdf', 'total_pages': 11, 'page': 5, 'page_label': '6'}, page_content='Table 1: Maximum path lengths, per-layer complexity and minimum number of sequential operations\\nfor different layer types. nis the sequence length, dis the representation dimension, kis the kernel\\nsize of convolutions and rthe size of the neighborhood in restricted self-attention.\\nLayer Type Complexity per Layer Sequential Maximum Path Length\\nOperations\\nSelf-Attention O(n2 ·d) O(1) O(1)\\nRecurrent O(n·d2) O(n) O(n)\\nConvolutional O(k·n·d2) O(1) O(logk(n))\\nSelf-Attention (restricted) O(r·n·d) O(1) O(n/r)\\nbottoms of the encoder and decoder stacks. The positional encodings have the same dimension dmodel\\nas the embeddings, so that the two can be summed. There are many choices of positional encodings,\\nlearned and ﬁxed [8].\\nIn this work, we use sine and cosine functions of different frequencies:\\nPE(pos,2i) = sin(pos/100002i/dmodel )\\nPE(pos,2i+1) = cos(pos/100002i/dmodel )\\nwhere posis the position and iis the dimension. That is, each dimension of the positional encoding\\ncorresponds to a sinusoid. The wavelengths form a geometric progression from 2πto 10000 ·2π. We\\nchose this function because we hypothesized it would allow the model to easily learn to attend by\\nrelative positions, since for any ﬁxed offset k, PEpos+k can be represented as a linear function of\\nPEpos.\\nWe also experimented with using learned positional embeddings [8] instead, and found that the two\\nversions produced nearly identical results (see Table 3 row (E)). We chose the sinusoidal version\\nbecause it may allow the model to extrapolate to sequence lengths longer than the ones encountered\\nduring training.\\n4 Why Self-Attention\\nIn this section we compare various aspects of self-attention layers to the recurrent and convolu-\\ntional layers commonly used for mapping one variable-length sequence of symbol representations\\n(x1,...,x n) to another sequence of equal length (z1,...,z n), with xi,zi ∈Rd, such as a hidden\\nlayer in a typical sequence transduction encoder or decoder. Motivating our use of self-attention we\\nconsider three desiderata.\\nOne is the total computational complexity per layer. Another is the amount of computation that can\\nbe parallelized, as measured by the minimum number of sequential operations required.\\nThe third is the path length between long-range dependencies in the network. Learning long-range\\ndependencies is a key challenge in many sequence transduction tasks. One key factor affecting the\\nability to learn such dependencies is the length of the paths forward and backward signals have to\\ntraverse in the network. The shorter these paths between any combination of positions in the input\\nand output sequences, the easier it is to learn long-range dependencies [11]. Hence we also compare\\nthe maximum path length between any two input and output positions in networks composed of the\\ndifferent layer types.\\nAs noted in Table 1, a self-attention layer connects all positions with a constant number of sequentially\\nexecuted operations, whereas a recurrent layer requires O(n) sequential operations. In terms of\\ncomputational complexity, self-attention layers are faster than recurrent layers when the sequence\\nlength n is smaller than the representation dimensionality d, which is most often the case with\\nsentence representations used by state-of-the-art models in machine translations, such as word-piece\\n[31] and byte-pair [25] representations. To improve computational performance for tasks involving\\nvery long sequences, self-attention could be restricted to considering only a neighborhood of size rin\\n6')),\n",
       " GraphDocument(nodes=[Node(id='Convolutional_Layer', type='Concept', properties={}), Node(id='Kernel_Width', type='Concept', properties={}), Node(id='Input_Output_Positions', type='Concept', properties={}), Node(id='Convolutional_Layers', type='Concept', properties={}), Node(id='Dilated_Convolutions', type='Concept', properties={}), Node(id='Separable_Convolutions', type='Concept', properties={}), Node(id='Self_Attention_Layer', type='Concept', properties={}), Node(id='Point_Wise_Feed_Forward_Layer', type='Concept', properties={}), Node(id='Training_Data', type='Concept', properties={}), Node(id='Wmt_2014_English_German_Dataset', type='Dataset', properties={}), Node(id='Wmt_2014_English_French_Dataset', type='Dataset', properties={}), Node(id='Nvidia_P100_Gpus', type='Hardware', properties={}), Node(id='Adam_Optimizer', type='Optimizer', properties={}), Node(id='Residual_Dropout', type='Regularization', properties={})], relationships=[Relationship(source=Node(id='Convolutional_Layer', type='Concept', properties={}), target=Node(id='Kernel_Width', type='Concept', properties={}), type='CONNECTS', properties={}), Relationship(source=Node(id='Kernel_Width', type='Concept', properties={}), target=Node(id='Input_Output_Positions', type='Concept', properties={}), type='REQUIRES', properties={}), Relationship(source=Node(id='Convolutional_Layers', type='Concept', properties={}), target=Node(id='Dilated_Convolutions', type='Concept', properties={}), type='INCREASES', properties={}), Relationship(source=Node(id='Separable_Convolutions', type='Concept', properties={}), target=Node(id='Complexity', type='Concept', properties={}), type='DECREASES', properties={}), Relationship(source=Node(id='Self_Attention_Layer', type='Concept', properties={}), target=Node(id='Point_Wise_Feed_Forward_Layer', type='Concept', properties={}), type='EQUALS', properties={}), Relationship(source=Node(id='Training_Data', type='Concept', properties={}), target=Node(id='Wmt_2014_English_German_Dataset', type='Dataset', properties={}), type='USES', properties={}), Relationship(source=Node(id='Training_Data', type='Concept', properties={}), target=Node(id='Wmt_2014_English_French_Dataset', type='Dataset', properties={}), type='USES', properties={}), Relationship(source=Node(id='Nvidia_P100_Gpus', type='Hardware', properties={}), target=Node(id='Training', type='Concept', properties={}), type='USED_FOR', properties={}), Relationship(source=Node(id='Adam_Optimizer', type='Optimizer', properties={}), target=Node(id='Training', type='Concept', properties={}), type='USED_FOR', properties={}), Relationship(source=Node(id='Residual_Dropout', type='Regularization', properties={}), target=Node(id='Training', type='Concept', properties={}), type='USED_FOR', properties={})], source=Document(metadata={'producer': 'PyPDF2', 'creator': 'PyPDF', 'creationdate': '', 'subject': 'Neural Information Processing Systems http://nips.cc/', 'publisher': 'Curran Associates, Inc.', 'language': 'en-US', 'created': '2017', 'eventtype': 'Poster', 'description-abstract': 'The dominant sequence transduction models are based on complex recurrent orconvolutional neural networks in an encoder and decoder configuration. The best performing such models also connect the encoder and decoder through an attentionm echanisms.  We propose a novel, simple network architecture based solely onan attention mechanism, dispensing with recurrence and convolutions entirely.Experiments on two machine translation tasks show these models to be superiorin quality while being more parallelizable and requiring significantly less timeto train. Our single model with 165 million parameters, achieves 27.5 BLEU onEnglish-to-German translation, improving over the existing best ensemble result by over 1 BLEU. On English-to-French translation, we outperform the previoussingle state-of-the-art with model by 0.7 BLEU, achieving a BLEU score of 41.1.', 'title': 'Attention is All you Need', 'date': '2017', 'moddate': '2018-02-12T21:22:10-08:00', 'published': '2017', 'type': 'Conference Proceedings', 'firstpage': '5998', 'book': 'Advances in Neural Information Processing Systems 30', 'description': 'Paper accepted and presented at the Neural Information Processing Systems Conference (http://nips.cc/)', 'editors': 'I. Guyon and U.V. Luxburg and S. Bengio and H. Wallach and R. Fergus and S. Vishwanathan and R. Garnett', 'author': 'Ashish Vaswani, Noam Shazeer, Niki Parmar, Jakob Uszkoreit, Llion Jones, Aidan N. Gomez, Łukasz Kaiser, Illia Polosukhin', 'lastpage': '6008', 'source': '../document/attention-is-all-you-need-Paper.pdf', 'total_pages': 11, 'page': 6, 'page_label': '7'}, page_content='the input sequence centered around the respective output position. This would increase the maximum\\npath length to O(n/r). We plan to investigate this approach further in future work.\\nA single convolutional layer with kernel width k<n does not connect all pairs of input and output\\npositions. Doing so requires a stack of O(n/k) convolutional layers in the case of contiguous kernels,\\nor O(logk(n)) in the case of dilated convolutions [ 15], increasing the length of the longest paths\\nbetween any two positions in the network. Convolutional layers are generally more expensive than\\nrecurrent layers, by a factor of k. Separable convolutions [ 6], however, decrease the complexity\\nconsiderably, to O(k·n·d+ n·d2). Even with k = n, however, the complexity of a separable\\nconvolution is equal to the combination of a self-attention layer and a point-wise feed-forward layer,\\nthe approach we take in our model.\\nAs side beneﬁt, self-attention could yield more interpretable models. We inspect attention distributions\\nfrom our models and present and discuss examples in the appendix. Not only do individual attention\\nheads clearly learn to perform different tasks, many appear to exhibit behavior related to the syntactic\\nand semantic structure of the sentences.\\n5 Training\\nThis section describes the training regime for our models.\\n5.1 Training Data and Batching\\nWe trained on the standard WMT 2014 English-German dataset consisting of about 4.5 million\\nsentence pairs. Sentences were encoded using byte-pair encoding [ 3], which has a shared source-\\ntarget vocabulary of about 37000 tokens. For English-French, we used the signiﬁcantly larger WMT\\n2014 English-French dataset consisting of 36M sentences and split tokens into a 32000 word-piece\\nvocabulary [31]. Sentence pairs were batched together by approximate sequence length. Each training\\nbatch contained a set of sentence pairs containing approximately 25000 source tokens and 25000\\ntarget tokens.\\n5.2 Hardware and Schedule\\nWe trained our models on one machine with 8 NVIDIA P100 GPUs. For our base models using\\nthe hyperparameters described throughout the paper, each training step took about 0.4 seconds. We\\ntrained the base models for a total of 100,000 steps or 12 hours. For our big models,(described on the\\nbottom line of table 3), step time was 1.0 seconds. The big models were trained for 300,000 steps\\n(3.5 days).\\n5.3 Optimizer\\nWe used the Adam optimizer [17] with β1 = 0.9, β2 = 0.98 and ϵ= 10−9. We varied the learning\\nrate over the course of training, according to the formula:\\nlrate= d−0.5\\nmodel ·min(step_num−0.5,step_num·warmup_steps−1.5) (3)\\nThis corresponds to increasing the learning rate linearly for the ﬁrst warmup_stepstraining steps,\\nand decreasing it thereafter proportionally to the inverse square root of the step number. We used\\nwarmup_steps= 4000.\\n5.4 Regularization\\nWe employ three types of regularization during training:\\nResidual Dropout We apply dropout [27] to the output of each sub-layer, before it is added to the\\nsub-layer input and normalized. In addition, we apply dropout to the sums of the embeddings and the\\npositional encodings in both the encoder and decoder stacks. For the base model, we use a rate of\\nPdrop = 0.1.\\n7')),\n",
       " GraphDocument(nodes=[Node(id='Transformer (Base Model)', type='Model', properties={}), Node(id='Transformer (Big)', type='Model', properties={}), Node(id='Bytenet', type='Model', properties={}), Node(id='Deep-Att + Posunk', type='Model', properties={}), Node(id='Gnmt + Rl', type='Model', properties={}), Node(id='Convs2S', type='Model', properties={}), Node(id='Moe', type='Model', properties={}), Node(id='Deep-Att + Posunk Ensemble', type='Model', properties={}), Node(id='Gnmt + Rl Ensemble', type='Model', properties={}), Node(id='Convs2S Ensemble', type='Model', properties={}), Node(id='Wmt 2014 English-To-German', type='Task', properties={}), Node(id='Wmt 2014 English-To-French', type='Task', properties={}), Node(id='Label Smoothing', type='Technique', properties={})], relationships=[Relationship(source=Node(id='Transformer (Big)', type='Model', properties={}), target=Node(id='Wmt 2014 English-To-German', type='Task', properties={}), type='OUTPERFORMS', properties={}), Relationship(source=Node(id='Transformer (Big)', type='Model', properties={}), target=Node(id='Wmt 2014 English-To-French', type='Task', properties={}), type='OUTPERFORMS', properties={}), Relationship(source=Node(id='Transformer (Big)', type='Model', properties={}), target=Node(id='28.4', type='Score', properties={}), type='BLEU_SCORE', properties={}), Relationship(source=Node(id='Transformer (Big)', type='Model', properties={}), target=Node(id='41.0', type='Score', properties={}), type='BLEU_SCORE', properties={}), Relationship(source=Node(id='Transformer (Base Model)', type='Model', properties={}), target=Node(id='Wmt 2014 English-To-German', type='Task', properties={}), type='OUTPERFORMS', properties={}), Relationship(source=Node(id='Transformer (Base Model)', type='Model', properties={}), target=Node(id='Wmt 2014 English-To-French', type='Task', properties={}), type='OUTPERFORMS', properties={}), Relationship(source=Node(id='Label Smoothing', type='Technique', properties={}), target=Node(id='Transformer (Base Model)', type='Model', properties={}), type='USED_IN', properties={}), Relationship(source=Node(id='Label Smoothing', type='Technique', properties={}), target=Node(id='Transformer (Big)', type='Model', properties={}), type='USED_IN', properties={}), Relationship(source=Node(id='Bytenet', type='Model', properties={}), target=Node(id='23.75', type='Score', properties={}), type='BLEU_SCORE', properties={}), Relationship(source=Node(id='Deep-Att + Posunk', type='Model', properties={}), target=Node(id='39.2', type='Score', properties={}), type='BLEU_SCORE', properties={}), Relationship(source=Node(id='Gnmt + Rl', type='Model', properties={}), target=Node(id='24.6', type='Score', properties={}), type='BLEU_SCORE', properties={}), Relationship(source=Node(id='Convs2S', type='Model', properties={}), target=Node(id='25.16', type='Score', properties={}), type='BLEU_SCORE', properties={}), Relationship(source=Node(id='Moe', type='Model', properties={}), target=Node(id='26.03', type='Score', properties={}), type='BLEU_SCORE', properties={}), Relationship(source=Node(id='Deep-Att + Posunk Ensemble', type='Model', properties={}), target=Node(id='40.4', type='Score', properties={}), type='BLEU_SCORE', properties={}), Relationship(source=Node(id='Gnmt + Rl Ensemble', type='Model', properties={}), target=Node(id='26.30', type='Score', properties={}), type='BLEU_SCORE', properties={}), Relationship(source=Node(id='Convs2S Ensemble', type='Model', properties={}), target=Node(id='26.36', type='Score', properties={}), type='BLEU_SCORE', properties={})], source=Document(metadata={'producer': 'PyPDF2', 'creator': 'PyPDF', 'creationdate': '', 'subject': 'Neural Information Processing Systems http://nips.cc/', 'publisher': 'Curran Associates, Inc.', 'language': 'en-US', 'created': '2017', 'eventtype': 'Poster', 'description-abstract': 'The dominant sequence transduction models are based on complex recurrent orconvolutional neural networks in an encoder and decoder configuration. The best performing such models also connect the encoder and decoder through an attentionm echanisms.  We propose a novel, simple network architecture based solely onan attention mechanism, dispensing with recurrence and convolutions entirely.Experiments on two machine translation tasks show these models to be superiorin quality while being more parallelizable and requiring significantly less timeto train. Our single model with 165 million parameters, achieves 27.5 BLEU onEnglish-to-German translation, improving over the existing best ensemble result by over 1 BLEU. On English-to-French translation, we outperform the previoussingle state-of-the-art with model by 0.7 BLEU, achieving a BLEU score of 41.1.', 'title': 'Attention is All you Need', 'date': '2017', 'moddate': '2018-02-12T21:22:10-08:00', 'published': '2017', 'type': 'Conference Proceedings', 'firstpage': '5998', 'book': 'Advances in Neural Information Processing Systems 30', 'description': 'Paper accepted and presented at the Neural Information Processing Systems Conference (http://nips.cc/)', 'editors': 'I. Guyon and U.V. Luxburg and S. Bengio and H. Wallach and R. Fergus and S. Vishwanathan and R. Garnett', 'author': 'Ashish Vaswani, Noam Shazeer, Niki Parmar, Jakob Uszkoreit, Llion Jones, Aidan N. Gomez, Łukasz Kaiser, Illia Polosukhin', 'lastpage': '6008', 'source': '../document/attention-is-all-you-need-Paper.pdf', 'total_pages': 11, 'page': 7, 'page_label': '8'}, page_content='Table 2: The Transformer achieves better BLEU scores than previous state-of-the-art models on the\\nEnglish-to-German and English-to-French newstest2014 tests at a fraction of the training cost.\\nModel\\nBLEU Training Cost (FLOPs)\\nEN-DE EN-FR EN-DE EN-FR\\nByteNet [15] 23.75\\nDeep-Att + PosUnk [32] 39.2 1.0 ·1020\\nGNMT + RL [31] 24.6 39.92 2.3 ·1019 1.4 ·1020\\nConvS2S [8] 25.16 40.46 9.6 ·1018 1.5 ·1020\\nMoE [26] 26.03 40.56 2.0 ·1019 1.2 ·1020\\nDeep-Att + PosUnk Ensemble [32] 40.4 8.0 ·1020\\nGNMT + RL Ensemble [31] 26.30 41.16 1.8 ·1020 1.1 ·1021\\nConvS2S Ensemble [8] 26.36 41.29 7.7 ·1019 1.2 ·1021\\nTransformer (base model) 27.3 38.1 3.3 · 1018\\nTransformer (big) 28.4 41.0 2.3 ·1019\\nLabel Smoothing During training, we employed label smoothing of value ϵls = 0.1 [30]. This\\nhurts perplexity, as the model learns to be more unsure, but improves accuracy and BLEU score.\\n6 Results\\n6.1 Machine Translation\\nOn the WMT 2014 English-to-German translation task, the big transformer model (Transformer (big)\\nin Table 2) outperforms the best previously reported models (including ensembles) by more than 2.0\\nBLEU, establishing a new state-of-the-art BLEU score of 28.4. The conﬁguration of this model is\\nlisted in the bottom line of Table 3. Training took 3.5 days on 8 P100 GPUs. Even our base model\\nsurpasses all previously published models and ensembles, at a fraction of the training cost of any of\\nthe competitive models.\\nOn the WMT 2014 English-to-French translation task, our big model achieves a BLEU score of 41.0,\\noutperforming all of the previously published single models, at less than 1/4 the training cost of the\\nprevious state-of-the-art model. The Transformer (big) model trained for English-to-French used\\ndropout rate Pdrop = 0.1, instead of 0.3.\\nFor the base models, we used a single model obtained by averaging the last 5 checkpoints, which\\nwere written at 10-minute intervals. For the big models, we averaged the last 20 checkpoints. We\\nused beam search with a beam size of 4 and length penalty α= 0.6 [31]. These hyperparameters\\nwere chosen after experimentation on the development set. We set the maximum output length during\\ninference to input length + 50, but terminate early when possible [31].\\nTable 2 summarizes our results and compares our translation quality and training costs to other model\\narchitectures from the literature. We estimate the number of ﬂoating point operations used to train a\\nmodel by multiplying the training time, the number of GPUs used, and an estimate of the sustained\\nsingle-precision ﬂoating-point capacity of each GPU 5.\\n6.2 Model Variations\\nTo evaluate the importance of different components of the Transformer, we varied our base model\\nin different ways, measuring the change in performance on English-to-German translation on the\\ndevelopment set, newstest2013. We used beam search as described in the previous section, but no\\ncheckpoint averaging. We present these results in Table 3.\\nIn Table 3 rows (A), we vary the number of attention heads and the attention key and value dimensions,\\nkeeping the amount of computation constant, as described in Section 3.2.2. While single-head\\nattention is 0.9 BLEU worse than the best setting, quality also drops off with too many heads.\\n5We used values of 2.8, 3.7, 6.0 and 9.5 TFLOPS for K80, K40, M40 and P100, respectively.\\n8')),\n",
       " GraphDocument(nodes=[Node(id='Transformer', type='Model', properties={}), Node(id='English-To-German', type='Translation task', properties={}), Node(id='Wmt 2014', type='Translation dataset', properties={}), Node(id='Wmt 2014 English-To-French', type='Translation task', properties={}), Node(id='Nal Kalchbrenner', type='Person', properties={}), Node(id='Stephan Gouws', type='Person', properties={}), Node(id='Https://Github.Com/Tensorflow/Tensor2Tensor', type='Code repository', properties={})], relationships=[Relationship(source=Node(id='Transformer', type='Model', properties={}), target=Node(id='English-To-German', type='Translation task', properties={}), type='PERFORMS', properties={}), Relationship(source=Node(id='Transformer', type='Model', properties={}), target=Node(id='Wmt 2014', type='Translation dataset', properties={}), type='EVALUATED_ON', properties={}), Relationship(source=Node(id='Transformer', type='Model', properties={}), target=Node(id='Wmt 2014 English-To-French', type='Translation task', properties={}), type='PERFORMS', properties={}), Relationship(source=Node(id='Transformer', type='Model', properties={}), target=Node(id='Https://Github.Com/Tensorflow/Tensor2Tensor', type='Code repository', properties={}), type='USES', properties={}), Relationship(source=Node(id='Nal Kalchbrenner', type='Person', properties={}), target=Node(id='Transformer', type='Model', properties={}), type='CONTRIBUTED_TO', properties={}), Relationship(source=Node(id='Stephan Gouws', type='Person', properties={}), target=Node(id='Transformer', type='Model', properties={}), type='CONTRIBUTED_TO', properties={})], source=Document(metadata={'producer': 'PyPDF2', 'creator': 'PyPDF', 'creationdate': '', 'subject': 'Neural Information Processing Systems http://nips.cc/', 'publisher': 'Curran Associates, Inc.', 'language': 'en-US', 'created': '2017', 'eventtype': 'Poster', 'description-abstract': 'The dominant sequence transduction models are based on complex recurrent orconvolutional neural networks in an encoder and decoder configuration. The best performing such models also connect the encoder and decoder through an attentionm echanisms.  We propose a novel, simple network architecture based solely onan attention mechanism, dispensing with recurrence and convolutions entirely.Experiments on two machine translation tasks show these models to be superiorin quality while being more parallelizable and requiring significantly less timeto train. Our single model with 165 million parameters, achieves 27.5 BLEU onEnglish-to-German translation, improving over the existing best ensemble result by over 1 BLEU. On English-to-French translation, we outperform the previoussingle state-of-the-art with model by 0.7 BLEU, achieving a BLEU score of 41.1.', 'title': 'Attention is All you Need', 'date': '2017', 'moddate': '2018-02-12T21:22:10-08:00', 'published': '2017', 'type': 'Conference Proceedings', 'firstpage': '5998', 'book': 'Advances in Neural Information Processing Systems 30', 'description': 'Paper accepted and presented at the Neural Information Processing Systems Conference (http://nips.cc/)', 'editors': 'I. Guyon and U.V. Luxburg and S. Bengio and H. Wallach and R. Fergus and S. Vishwanathan and R. Garnett', 'author': 'Ashish Vaswani, Noam Shazeer, Niki Parmar, Jakob Uszkoreit, Llion Jones, Aidan N. Gomez, Łukasz Kaiser, Illia Polosukhin', 'lastpage': '6008', 'source': '../document/attention-is-all-you-need-Paper.pdf', 'total_pages': 11, 'page': 8, 'page_label': '9'}, page_content='Table 3: Variations on the Transformer architecture. Unlisted values are identical to those of the base\\nmodel. All metrics are on the English-to-German translation development set, newstest2013. Listed\\nperplexities are per-wordpiece, according to our byte-pair encoding, and should not be compared to\\nper-word perplexities.\\nN d model dff h d k dv Pdrop ϵls\\ntrain PPL BLEU params\\nsteps (dev) (dev) ×106\\nbase 6 512 2048 8 64 64 0.1 0.1 100K 4.92 25.8 65\\n(A)\\n1 512 512 5.29 24.9\\n4 128 128 5.00 25.5\\n16 32 32 4.91 25.8\\n32 16 16 5.01 25.4\\n(B) 16 5.16 25.1 58\\n32 5.01 25.4 60\\n(C)\\n2 6.11 23.7 36\\n4 5.19 25.3 50\\n8 4.88 25.5 80\\n256 32 32 5.75 24.5 28\\n1024 128 128 4.66 26.0 168\\n1024 5.12 25.4 53\\n4096 4.75 26.2 90\\n(D)\\n0.0 5.77 24.6\\n0.2 4.95 25.5\\n0.0 4.67 25.3\\n0.2 5.47 25.7\\n(E) positional embedding instead of sinusoids 4.92 25.7\\nbig 6 1024 4096 16 0.3 300K 4.33 26.4 213\\nIn Table 3 rows (B), we observe that reducing the attention key size dk hurts model quality. This\\nsuggests that determining compatibility is not easy and that a more sophisticated compatibility\\nfunction than dot product may be beneﬁcial. We further observe in rows (C) and (D) that, as expected,\\nbigger models are better, and dropout is very helpful in avoiding over-ﬁtting. In row (E) we replace our\\nsinusoidal positional encoding with learned positional embeddings [8], and observe nearly identical\\nresults to the base model.\\n7 Conclusion\\nIn this work, we presented the Transformer, the ﬁrst sequence transduction model based entirely on\\nattention, replacing the recurrent layers most commonly used in encoder-decoder architectures with\\nmulti-headed self-attention.\\nFor translation tasks, the Transformer can be trained signiﬁcantly faster than architectures based\\non recurrent or convolutional layers. On both WMT 2014 English-to-German and WMT 2014\\nEnglish-to-French translation tasks, we achieve a new state of the art. In the former task our best\\nmodel outperforms even all previously reported ensembles.\\nWe are excited about the future of attention-based models and plan to apply them to other tasks. We\\nplan to extend the Transformer to problems involving input and output modalities other than text and\\nto investigate local, restricted attention mechanisms to efﬁciently handle large inputs and outputs\\nsuch as images, audio and video. Making generation less sequential is another research goals of ours.\\nThe code we used to train and evaluate our models is available at https://github.com/\\ntensorflow/tensor2tensor.\\nAcknowledgements We are grateful to Nal Kalchbrenner and Stephan Gouws for their fruitful\\ncomments, corrections and inspiration.\\n9')),\n",
       " GraphDocument(nodes=[Node(id='Jimmy Lei Ba', type='Person', properties={}), Node(id='Jamie Ryan Kiros', type='Person', properties={}), Node(id='Geoffrey E Hinton', type='Person', properties={}), Node(id='Dzmitry Bahdanau', type='Person', properties={}), Node(id='Kyunghyun Cho', type='Person', properties={}), Node(id='Yoshua Bengio', type='Person', properties={}), Node(id='Denny Britz', type='Person', properties={}), Node(id='Anna Goldie', type='Person', properties={}), Node(id='Minh-Thang Luong', type='Person', properties={}), Node(id='Quoc V . Le', type='Person', properties={}), Node(id='Jianpeng Cheng', type='Person', properties={}), Node(id='Li Dong', type='Person', properties={}), Node(id='Mirella Lapata', type='Person', properties={}), Node(id='Francois Chollet', type='Person', properties={}), Node(id='Junyoung Chung', type='Person', properties={}), Node(id='Çaglar Gülçehre', type='Person', properties={}), Node(id='Jonas Gehring', type='Person', properties={}), Node(id='Michael Auli', type='Person', properties={}), Node(id='David Grangier', type='Person', properties={}), Node(id='Denis Yarats', type='Person', properties={}), Node(id='Yann N. Dauphin', type='Person', properties={}), Node(id='Alex Graves', type='Person', properties={}), Node(id='Kaiming He', type='Person', properties={}), Node(id='Xiangyu Zhang', type='Person', properties={}), Node(id='Shaoqing Ren', type='Person', properties={}), Node(id='Jian Sun', type='Person', properties={}), Node(id='Sepp Hochreiter', type='Person', properties={}), Node(id='Paolo Frasconi', type='Person', properties={}), Node(id='Jürgen Schmidhuber', type='Person', properties={}), Node(id='Rafal Jozefowicz', type='Person', properties={}), Node(id='Oriol Vinyals', type='Person', properties={}), Node(id='Mike Schuster', type='Person', properties={}), Node(id='Noam Shazeer', type='Person', properties={}), Node(id='Yonghui Wu', type='Person', properties={}), Node(id='Łukasz Kaiser', type='Person', properties={}), Node(id='Ilya Sutskever', type='Person', properties={}), Node(id='Nal Kalchbrenner', type='Person', properties={}), Node(id='Lasse Espeholt', type='Person', properties={}), Node(id='Karen Simonyan', type='Person', properties={}), Node(id='Aaron Van Den Oord', type='Person', properties={}), Node(id='Kory Kavukcuoglu', type='Person', properties={}), Node(id='Yoon Kim', type='Person', properties={}), Node(id='Carl Denton', type='Person', properties={}), Node(id='Luong Hoang', type='Person', properties={}), Node(id='Alexander M. Rush', type='Person', properties={}), Node(id='Diederik Kingma', type='Person', properties={}), Node(id='Oleksii Kuchaiev', type='Person', properties={}), Node(id='Boris Ginsburg', type='Person', properties={}), Node(id='Zhouhan Lin', type='Person', properties={}), Node(id='Minwei Feng', type='Person', properties={}), Node(id='Cicero Nogueira Dos Santos', type='Person', properties={}), Node(id='Mo Yu', type='Person', properties={}), Node(id='Bing Xiang', type='Person', properties={}), Node(id='Bowen Zhou', type='Person', properties={})], relationships=[Relationship(source=Node(id='Jimmy Lei Ba', type='Person', properties={}), target=Node(id='Layer Normalization', type='Concept', properties={}), type='AUTHORED', properties={}), Relationship(source=Node(id='Jamie Ryan Kiros', type='Person', properties={}), target=Node(id='Layer Normalization', type='Concept', properties={}), type='AUTHORED', properties={}), Relationship(source=Node(id='Geoffrey E Hinton', type='Person', properties={}), target=Node(id='Layer Normalization', type='Concept', properties={}), type='AUTHORED', properties={}), Relationship(source=Node(id='Dzmitry Bahdanau', type='Person', properties={}), target=Node(id='Neural Machine Translation By Jointly Learning To Align And Translate', type='Concept', properties={}), type='AUTHORED', properties={}), Relationship(source=Node(id='Kyunghyun Cho', type='Person', properties={}), target=Node(id='Neural Machine Translation By Jointly Learning To Align And Translate', type='Concept', properties={}), type='AUTHORED', properties={}), Relationship(source=Node(id='Yoshua Bengio', type='Person', properties={}), target=Node(id='Neural Machine Translation By Jointly Learning To Align And Translate', type='Concept', properties={}), type='AUTHORED', properties={}), Relationship(source=Node(id='Denny Britz', type='Person', properties={}), target=Node(id='Massive Exploration Of Neural Machine Translation Architectures', type='Concept', properties={}), type='AUTHORED', properties={}), Relationship(source=Node(id='Anna Goldie', type='Person', properties={}), target=Node(id='Massive Exploration Of Neural Machine Translation Architectures', type='Concept', properties={}), type='AUTHORED', properties={}), Relationship(source=Node(id='Minh-Thang Luong', type='Person', properties={}), target=Node(id='Massive Exploration Of Neural Machine Translation Architectures', type='Concept', properties={}), type='AUTHORED', properties={}), Relationship(source=Node(id='Quoc V . Le', type='Person', properties={}), target=Node(id='Massive Exploration Of Neural Machine Translation Architectures', type='Concept', properties={}), type='AUTHORED', properties={}), Relationship(source=Node(id='Jianpeng Cheng', type='Person', properties={}), target=Node(id='Long Short-Term Memory-Networks For Machine Reading', type='Concept', properties={}), type='AUTHORED', properties={}), Relationship(source=Node(id='Li Dong', type='Person', properties={}), target=Node(id='Long Short-Term Memory-Networks For Machine Reading', type='Concept', properties={}), type='AUTHORED', properties={}), Relationship(source=Node(id='Mirella Lapata', type='Person', properties={}), target=Node(id='Long Short-Term Memory-Networks For Machine Reading', type='Concept', properties={}), type='AUTHORED', properties={}), Relationship(source=Node(id='Kyunghyun Cho', type='Person', properties={}), target=Node(id='Learning Phrase Representations Using Rnn Encoder-Decoder For Statistical Machine Translation', type='Concept', properties={}), type='AUTHORED', properties={}), Relationship(source=Node(id='Bart Van Merrienboer', type='Person', properties={}), target=Node(id='Learning Phrase Representations Using Rnn Encoder-Decoder For Statistical Machine Translation', type='Concept', properties={}), type='AUTHORED', properties={}), Relationship(source=Node(id='Caglar Gulcehre', type='Person', properties={}), target=Node(id='Learning Phrase Representations Using Rnn Encoder-Decoder For Statistical Machine Translation', type='Concept', properties={}), type='AUTHORED', properties={}), Relationship(source=Node(id='Fethi Bougares', type='Person', properties={}), target=Node(id='Learning Phrase Representations Using Rnn Encoder-Decoder For Statistical Machine Translation', type='Concept', properties={}), type='AUTHORED', properties={}), Relationship(source=Node(id='Holger Schwenk', type='Person', properties={}), target=Node(id='Learning Phrase Representations Using Rnn Encoder-Decoder For Statistical Machine Translation', type='Concept', properties={}), type='AUTHORED', properties={}), Relationship(source=Node(id='Yoshua Bengio', type='Person', properties={}), target=Node(id='Learning Phrase Representations Using Rnn Encoder-Decoder For Statistical Machine Translation', type='Concept', properties={}), type='AUTHORED', properties={}), Relationship(source=Node(id='Francois Chollet', type='Person', properties={}), target=Node(id='Xception: Deep Learning With Depthwise Separable Convolutions', type='Concept', properties={}), type='AUTHORED', properties={}), Relationship(source=Node(id='Junyoung Chung', type='Person', properties={}), target=Node(id='Empirical Evaluation Of Gated Recurrent Neural Networks On Sequence Modeling', type='Concept', properties={}), type='AUTHORED', properties={}), Relationship(source=Node(id='Çaglar Gülçehre', type='Person', properties={}), target=Node(id='Empirical Evaluation Of Gated Recurrent Neural Networks On Sequence Modeling', type='Concept', properties={}), type='AUTHORED', properties={}), Relationship(source=Node(id='Kyunghyun Cho', type='Person', properties={}), target=Node(id='Empirical Evaluation Of Gated Recurrent Neural Networks On Sequence Modeling', type='Concept', properties={}), type='AUTHORED', properties={}), Relationship(source=Node(id='Yoshua Bengio', type='Person', properties={}), target=Node(id='Empirical Evaluation Of Gated Recurrent Neural Networks On Sequence Modeling', type='Concept', properties={}), type='AUTHORED', properties={}), Relationship(source=Node(id='Jonas Gehring', type='Person', properties={}), target=Node(id='Convolutional Sequence To Sequence Learning', type='Concept', properties={}), type='AUTHORED', properties={}), Relationship(source=Node(id='Michael Auli', type='Person', properties={}), target=Node(id='Convolutional Sequence To Sequence Learning', type='Concept', properties={}), type='AUTHORED', properties={}), Relationship(source=Node(id='David Grangier', type='Person', properties={}), target=Node(id='Convolutional Sequence To Sequence Learning', type='Concept', properties={}), type='AUTHORED', properties={}), Relationship(source=Node(id='Denis Yarats', type='Person', properties={}), target=Node(id='Convolutional Sequence To Sequence Learning', type='Concept', properties={}), type='AUTHORED', properties={}), Relationship(source=Node(id='Yann N. Dauphin', type='Person', properties={}), target=Node(id='Convolutional Sequence To Sequence Learning', type='Concept', properties={}), type='AUTHORED', properties={}), Relationship(source=Node(id='Alex Graves', type='Person', properties={}), target=Node(id='Generating Sequences With Recurrent Neural Networks', type='Concept', properties={}), type='AUTHORED', properties={}), Relationship(source=Node(id='Kaiming He', type='Person', properties={}), target=Node(id='Deep Residual Learning For Image Recognition', type='Concept', properties={}), type='AUTHORED', properties={}), Relationship(source=Node(id='Xiangyu Zhang', type='Person', properties={}), target=Node(id='Deep Residual Learning For Image Recognition', type='Concept', properties={}), type='AUTHORED', properties={}), Relationship(source=Node(id='Shaoqing Ren', type='Person', properties={}), target=Node(id='Deep Residual Learning For Image Recognition', type='Concept', properties={}), type='AUTHORED', properties={}), Relationship(source=Node(id='Jian Sun', type='Person', properties={}), target=Node(id='Deep Residual Learning For Image Recognition', type='Concept', properties={}), type='AUTHORED', properties={}), Relationship(source=Node(id='Sepp Hochreiter', type='Person', properties={}), target=Node(id='Gradient Flow In Recurrent Nets: The Difficulty Of Learning Long-Term Dependencies', type='Concept', properties={}), type='AUTHORED', properties={}), Relationship(source=Node(id='Yoshua Bengio', type='Person', properties={}), target=Node(id='Gradient Flow In Recurrent Nets: The Difficulty Of Learning Long-Term Dependencies', type='Concept', properties={}), type='AUTHORED', properties={}), Relationship(source=Node(id='Paolo Frasconi', type='Person', properties={}), target=Node(id='Gradient Flow In Recurrent Nets: The Difficulty Of Learning Long-Term Dependencies', type='Concept', properties={}), type='AUTHORED', properties={}), Relationship(source=Node(id='Jürgen Schmidhuber', type='Person', properties={}), target=Node(id='Gradient Flow In Recurrent Nets: The Difficulty Of Learning Long-Term Dependencies', type='Concept', properties={}), type='AUTHORED', properties={}), Relationship(source=Node(id='Sepp Hochreiter', type='Person', properties={}), target=Node(id='Long Short-Term Memory', type='Concept', properties={}), type='AUTHORED', properties={}), Relationship(source=Node(id='Jürgen Schmidhuber', type='Person', properties={}), target=Node(id='Long Short-Term Memory', type='Concept', properties={}), type='AUTHORED', properties={}), Relationship(source=Node(id='Rafal Jozefowicz', type='Person', properties={}), target=Node(id='Exploring The Limits Of Language Modeling', type='Concept', properties={}), type='AUTHORED', properties={}), Relationship(source=Node(id='Oriol Vinyals', type='Person', properties={}), target=Node(id='Exploring The Limits Of Language Modeling', type='Concept', properties={}), type='AUTHORED', properties={}), Relationship(source=Node(id='Mike Schuster', type='Person', properties={}), target=Node(id='Exploring The Limits Of Language Modeling', type='Concept', properties={}), type='AUTHORED', properties={}), Relationship(source=Node(id='Noam Shazeer', type='Person', properties={}), target=Node(id='Exploring The Limits Of Language Modeling', type='Concept', properties={}), type='AUTHORED', properties={}), Relationship(source=Node(id='Yonghui Wu', type='Person', properties={}), target=Node(id='Exploring The Limits Of Language Modeling', type='Concept', properties={}), type='AUTHORED', properties={}), Relationship(source=Node(id='Łukasz Kaiser', type='Person', properties={}), target=Node(id='Neural Gpus Learn Algorithms', type='Concept', properties={}), type='AUTHORED', properties={}), Relationship(source=Node(id='Ilya Sutskever', type='Person', properties={}), target=Node(id='Neural Gpus Learn Algorithms', type='Concept', properties={}), type='AUTHORED', properties={}), Relationship(source=Node(id='Nal Kalchbrenner', type='Person', properties={}), target=Node(id='Neural Machine Translation In Linear Time', type='Concept', properties={}), type='AUTHORED', properties={}), Relationship(source=Node(id='Lasse Espeholt', type='Person', properties={}), target=Node(id='Neural Machine Translation In Linear Time', type='Concept', properties={}), type='AUTHORED', properties={}), Relationship(source=Node(id='Karen Simonyan', type='Person', properties={}), target=Node(id='Neural Machine Translation In Linear Time', type='Concept', properties={}), type='AUTHORED', properties={}), Relationship(source=Node(id='Aaron Van Den Oord', type='Person', properties={}), target=Node(id='Neural Machine Translation In Linear Time', type='Concept', properties={}), type='AUTHORED', properties={}), Relationship(source=Node(id='Alex Graves', type='Person', properties={}), target=Node(id='Neural Machine Translation In Linear Time', type='Concept', properties={}), type='AUTHORED', properties={}), Relationship(source=Node(id='Kory Kavukcuoglu', type='Person', properties={}), target=Node(id='Neural Machine Translation In Linear Time', type='Concept', properties={}), type='AUTHORED', properties={}), Relationship(source=Node(id='Yoon Kim', type='Person', properties={}), target=Node(id='Structured Attention Networks', type='Concept', properties={}), type='AUTHORED', properties={}), Relationship(source=Node(id='Carl Denton', type='Person', properties={}), target=Node(id='Structured Attention Networks', type='Concept', properties={}), type='AUTHORED', properties={}), Relationship(source=Node(id='Luong Hoang', type='Person', properties={}), target=Node(id='Structured Attention Networks', type='Concept', properties={}), type='AUTHORED', properties={}), Relationship(source=Node(id='Alexander M. Rush', type='Person', properties={}), target=Node(id='Structured Attention Networks', type='Concept', properties={}), type='AUTHORED', properties={}), Relationship(source=Node(id='Diederik Kingma', type='Person', properties={}), target=Node(id='Adam: A Method For Stochastic Optimization', type='Concept', properties={}), type='AUTHORED', properties={}), Relationship(source=Node(id='Jimmy Ba', type='Person', properties={}), target=Node(id='Adam: A Method For Stochastic Optimization', type='Concept', properties={}), type='AUTHORED', properties={}), Relationship(source=Node(id='Oleksii Kuchaiev', type='Person', properties={}), target=Node(id='Factorization Tricks For Lstm Networks', type='Concept', properties={}), type='AUTHORED', properties={}), Relationship(source=Node(id='Boris Ginsburg', type='Person', properties={}), target=Node(id='Factorization Tricks For Lstm Networks', type='Concept', properties={}), type='AUTHORED', properties={}), Relationship(source=Node(id='Zhouhan Lin', type='Person', properties={}), target=Node(id='A Structured Self-Attentive Sentence Embedding', type='Concept', properties={}), type='AUTHORED', properties={}), Relationship(source=Node(id='Minwei Feng', type='Person', properties={}), target=Node(id='A Structured Self-Attentive Sentence Embedding', type='Concept', properties={}), type='AUTHORED', properties={}), Relationship(source=Node(id='Cicero Nogueira Dos Santos', type='Person', properties={}), target=Node(id='A Structured Self-Attentive Sentence Embedding', type='Concept', properties={}), type='AUTHORED', properties={}), Relationship(source=Node(id='Mo Yu', type='Person', properties={}), target=Node(id='A Structured Self-Attentive Sentence Embedding', type='Concept', properties={}), type='AUTHORED', properties={}), Relationship(source=Node(id='Bing Xiang', type='Person', properties={}), target=Node(id='A Structured Self-Attentive Sentence Embedding', type='Concept', properties={}), type='AUTHORED', properties={}), Relationship(source=Node(id='Bowen Zhou', type='Person', properties={}), target=Node(id='A Structured Self-Attentive Sentence Embedding', type='Concept', properties={}), type='AUTHORED', properties={}), Relationship(source=Node(id='Yoshua Bengio', type='Person', properties={}), target=Node(id='Can Active Memory Replace Attention?', type='Concept', properties={}), type='AUTHORED', properties={}), Relationship(source=Node(id='Samy Bengio', type='Person', properties={}), target=Node(id='Can Active Memory Replace Attention?', type='Concept', properties={}), type='AUTHORED', properties={}), Relationship(source=Node(id='Łukasz Kaiser', type='Person', properties={}), target=Node(id='Can Active Memory Replace Attention?', type='Concept', properties={}), type='AUTHORED', properties={})], source=Document(metadata={'producer': 'PyPDF2', 'creator': 'PyPDF', 'creationdate': '', 'subject': 'Neural Information Processing Systems http://nips.cc/', 'publisher': 'Curran Associates, Inc.', 'language': 'en-US', 'created': '2017', 'eventtype': 'Poster', 'description-abstract': 'The dominant sequence transduction models are based on complex recurrent orconvolutional neural networks in an encoder and decoder configuration. The best performing such models also connect the encoder and decoder through an attentionm echanisms.  We propose a novel, simple network architecture based solely onan attention mechanism, dispensing with recurrence and convolutions entirely.Experiments on two machine translation tasks show these models to be superiorin quality while being more parallelizable and requiring significantly less timeto train. Our single model with 165 million parameters, achieves 27.5 BLEU onEnglish-to-German translation, improving over the existing best ensemble result by over 1 BLEU. On English-to-French translation, we outperform the previoussingle state-of-the-art with model by 0.7 BLEU, achieving a BLEU score of 41.1.', 'title': 'Attention is All you Need', 'date': '2017', 'moddate': '2018-02-12T21:22:10-08:00', 'published': '2017', 'type': 'Conference Proceedings', 'firstpage': '5998', 'book': 'Advances in Neural Information Processing Systems 30', 'description': 'Paper accepted and presented at the Neural Information Processing Systems Conference (http://nips.cc/)', 'editors': 'I. Guyon and U.V. Luxburg and S. Bengio and H. Wallach and R. Fergus and S. Vishwanathan and R. Garnett', 'author': 'Ashish Vaswani, Noam Shazeer, Niki Parmar, Jakob Uszkoreit, Llion Jones, Aidan N. Gomez, Łukasz Kaiser, Illia Polosukhin', 'lastpage': '6008', 'source': '../document/attention-is-all-you-need-Paper.pdf', 'total_pages': 11, 'page': 9, 'page_label': '10'}, page_content='References\\n[1] Jimmy Lei Ba, Jamie Ryan Kiros, and Geoffrey E Hinton. Layer normalization. arXiv preprint\\narXiv:1607.06450, 2016.\\n[2] Dzmitry Bahdanau, Kyunghyun Cho, and Yoshua Bengio. Neural machine translation by jointly\\nlearning to align and translate. CoRR, abs/1409.0473, 2014.\\n[3] Denny Britz, Anna Goldie, Minh-Thang Luong, and Quoc V . Le. Massive exploration of neural\\nmachine translation architectures. CoRR, abs/1703.03906, 2017.\\n[4] Jianpeng Cheng, Li Dong, and Mirella Lapata. Long short-term memory-networks for machine\\nreading. arXiv preprint arXiv:1601.06733, 2016.\\n[5] Kyunghyun Cho, Bart van Merrienboer, Caglar Gulcehre, Fethi Bougares, Holger Schwenk,\\nand Yoshua Bengio. Learning phrase representations using rnn encoder-decoder for statistical\\nmachine translation. CoRR, abs/1406.1078, 2014.\\n[6] Francois Chollet. Xception: Deep learning with depthwise separable convolutions. arXiv\\npreprint arXiv:1610.02357, 2016.\\n[7] Junyoung Chung, Çaglar Gülçehre, Kyunghyun Cho, and Yoshua Bengio. Empirical evaluation\\nof gated recurrent neural networks on sequence modeling. CoRR, abs/1412.3555, 2014.\\n[8] Jonas Gehring, Michael Auli, David Grangier, Denis Yarats, and Yann N. Dauphin. Convolu-\\ntional sequence to sequence learning. arXiv preprint arXiv:1705.03122v2, 2017.\\n[9] Alex Graves. Generating sequences with recurrent neural networks. arXiv preprint\\narXiv:1308.0850, 2013.\\n[10] Kaiming He, Xiangyu Zhang, Shaoqing Ren, and Jian Sun. Deep residual learning for im-\\nage recognition. In Proceedings of the IEEE Conference on Computer Vision and Pattern\\nRecognition, pages 770–778, 2016.\\n[11] Sepp Hochreiter, Yoshua Bengio, Paolo Frasconi, and Jürgen Schmidhuber. Gradient ﬂow in\\nrecurrent nets: the difﬁculty of learning long-term dependencies, 2001.\\n[12] Sepp Hochreiter and Jürgen Schmidhuber. Long short-term memory. Neural computation,\\n9(8):1735–1780, 1997.\\n[13] Rafal Jozefowicz, Oriol Vinyals, Mike Schuster, Noam Shazeer, and Yonghui Wu. Exploring\\nthe limits of language modeling. arXiv preprint arXiv:1602.02410, 2016.\\n[14] Łukasz Kaiser and Ilya Sutskever. Neural GPUs learn algorithms. In International Conference\\non Learning Representations (ICLR), 2016.\\n[15] Nal Kalchbrenner, Lasse Espeholt, Karen Simonyan, Aaron van den Oord, Alex Graves, and Ko-\\nray Kavukcuoglu. Neural machine translation in linear time.arXiv preprint arXiv:1610.10099v2,\\n2017.\\n[16] Yoon Kim, Carl Denton, Luong Hoang, and Alexander M. Rush. Structured attention networks.\\nIn International Conference on Learning Representations, 2017.\\n[17] Diederik Kingma and Jimmy Ba. Adam: A method for stochastic optimization. In ICLR, 2015.\\n[18] Oleksii Kuchaiev and Boris Ginsburg. Factorization tricks for LSTM networks. arXiv preprint\\narXiv:1703.10722, 2017.\\n[19] Zhouhan Lin, Minwei Feng, Cicero Nogueira dos Santos, Mo Yu, Bing Xiang, Bowen\\nZhou, and Yoshua Bengio. A structured self-attentive sentence embedding. arXiv preprint\\narXiv:1703.03130, 2017.\\n[20] Samy Bengio Łukasz Kaiser. Can active memory replace attention? In Advances in Neural\\nInformation Processing Systems, (NIPS), 2016.\\n10')),\n",
       " GraphDocument(nodes=[Node(id='Minh-Thang Luong', type='Person', properties={}), Node(id='Hieu Pham', type='Person', properties={}), Node(id='Christopher D Manning', type='Person', properties={}), Node(id='Ankur Parikh', type='Person', properties={}), Node(id='Oscar Täckström', type='Person', properties={}), Node(id='Dipanjan Das', type='Person', properties={}), Node(id='Jakob Uszkoreit', type='Person', properties={}), Node(id='Romain Paulus', type='Person', properties={}), Node(id='Caiming Xiong', type='Person', properties={}), Node(id='Richard Socher', type='Person', properties={}), Node(id='Ofir Press', type='Person', properties={}), Node(id='Lior Wolf', type='Person', properties={}), Node(id='Rico Sennrich', type='Person', properties={}), Node(id='Barry Haddow', type='Person', properties={}), Node(id='Alexandra Birch', type='Person', properties={}), Node(id='Noam Shazeer', type='Person', properties={}), Node(id='Azalia Mirhoseini', type='Person', properties={}), Node(id='Krzysztof Maziarz', type='Person', properties={}), Node(id='Andy Davis', type='Person', properties={}), Node(id='Quoc Le', type='Person', properties={}), Node(id='Geoffrey Hinton', type='Person', properties={}), Node(id='Jeff Dean', type='Person', properties={}), Node(id='Nitish Srivastava', type='Person', properties={}), Node(id='Alex Krizhevsky', type='Person', properties={}), Node(id='Ilya Sutskever', type='Person', properties={}), Node(id='Ruslan Salakhutdinov', type='Person', properties={}), Node(id='Sainbayar Sukhbaatar', type='Person', properties={}), Node(id='Arthur Szlam', type='Person', properties={}), Node(id='Jason Weston', type='Person', properties={}), Node(id='Rob Fergus', type='Person', properties={}), Node(id='Ilya Sutskever', type='Person', properties={}), Node(id='Oriol Vinyals', type='Person', properties={}), Node(id='Quoc Vv Le', type='Person', properties={}), Node(id='Christian Szegedy', type='Person', properties={}), Node(id='Vincent Vanhoucke', type='Person', properties={}), Node(id='Sergey Ioffe', type='Person', properties={}), Node(id='Jonathon Shlens', type='Person', properties={}), Node(id='Zbigniew Wojna', type='Person', properties={}), Node(id='Yonghui Wu', type='Person', properties={}), Node(id='Mike Schuster', type='Person', properties={}), Node(id='Zhifeng Chen', type='Person', properties={}), Node(id='Mohammad Norouzi', type='Person', properties={}), Node(id='Wolfgang Macherey', type='Person', properties={}), Node(id='Maxim Krikun', type='Person', properties={}), Node(id='Yuan Cao', type='Person', properties={}), Node(id='Qin Gao', type='Person', properties={}), Node(id='Klaus Macherey', type='Person', properties={}), Node(id='Jie Zhou', type='Person', properties={}), Node(id='Ying Cao', type='Person', properties={}), Node(id='Xuguang Wang', type='Person', properties={}), Node(id='Peng Li', type='Person', properties={}), Node(id='Wei Xu', type='Person', properties={})], relationships=[Relationship(source=Node(id='Minh-Thang Luong', type='Person', properties={}), target=Node(id='Hieu Pham', type='Person', properties={}), type='CO_AUTHOR', properties={}), Relationship(source=Node(id='Minh-Thang Luong', type='Person', properties={}), target=Node(id='Christopher D Manning', type='Person', properties={}), type='CO_AUTHOR', properties={}), Relationship(source=Node(id='Ankur Parikh', type='Person', properties={}), target=Node(id='Oscar Täckström', type='Person', properties={}), type='CO_AUTHOR', properties={}), Relationship(source=Node(id='Ankur Parikh', type='Person', properties={}), target=Node(id='Dipanjan Das', type='Person', properties={}), type='CO_AUTHOR', properties={}), Relationship(source=Node(id='Ankur Parikh', type='Person', properties={}), target=Node(id='Jakob Uszkoreit', type='Person', properties={}), type='CO_AUTHOR', properties={}), Relationship(source=Node(id='Romain Paulus', type='Person', properties={}), target=Node(id='Caiming Xiong', type='Person', properties={}), type='CO_AUTHOR', properties={}), Relationship(source=Node(id='Romain Paulus', type='Person', properties={}), target=Node(id='Richard Socher', type='Person', properties={}), type='CO_AUTHOR', properties={}), Relationship(source=Node(id='Ofir Press', type='Person', properties={}), target=Node(id='Lior Wolf', type='Person', properties={}), type='CO_AUTHOR', properties={}), Relationship(source=Node(id='Rico Sennrich', type='Person', properties={}), target=Node(id='Barry Haddow', type='Person', properties={}), type='CO_AUTHOR', properties={}), Relationship(source=Node(id='Rico Sennrich', type='Person', properties={}), target=Node(id='Alexandra Birch', type='Person', properties={}), type='CO_AUTHOR', properties={}), Relationship(source=Node(id='Noam Shazeer', type='Person', properties={}), target=Node(id='Azalia Mirhoseini', type='Person', properties={}), type='CO_AUTHOR', properties={}), Relationship(source=Node(id='Noam Shazeer', type='Person', properties={}), target=Node(id='Krzysztof Maziarz', type='Person', properties={}), type='CO_AUTHOR', properties={}), Relationship(source=Node(id='Noam Shazeer', type='Person', properties={}), target=Node(id='Andy Davis', type='Person', properties={}), type='CO_AUTHOR', properties={}), Relationship(source=Node(id='Noam Shazeer', type='Person', properties={}), target=Node(id='Quoc Le', type='Person', properties={}), type='CO_AUTHOR', properties={}), Relationship(source=Node(id='Noam Shazeer', type='Person', properties={}), target=Node(id='Geoffrey Hinton', type='Person', properties={}), type='CO_AUTHOR', properties={}), Relationship(source=Node(id='Noam Shazeer', type='Person', properties={}), target=Node(id='Jeff Dean', type='Person', properties={}), type='CO_AUTHOR', properties={}), Relationship(source=Node(id='Nitish Srivastava', type='Person', properties={}), target=Node(id='Geoffrey E Hinton', type='Person', properties={}), type='CO_AUTHOR', properties={}), Relationship(source=Node(id='Nitish Srivastava', type='Person', properties={}), target=Node(id='Alex Krizhevsky', type='Person', properties={}), type='CO_AUTHOR', properties={}), Relationship(source=Node(id='Nitish Srivastava', type='Person', properties={}), target=Node(id='Ilya Sutskever', type='Person', properties={}), type='CO_AUTHOR', properties={}), Relationship(source=Node(id='Nitish Srivastava', type='Person', properties={}), target=Node(id='Ruslan Salakhutdinov', type='Person', properties={}), type='CO_AUTHOR', properties={}), Relationship(source=Node(id='Sainbayar Sukhbaatar', type='Person', properties={}), target=Node(id='Arthur Szlam', type='Person', properties={}), type='CO_AUTHOR', properties={}), Relationship(source=Node(id='Sainbayar Sukhbaatar', type='Person', properties={}), target=Node(id='Jason Weston', type='Person', properties={}), type='CO_AUTHOR', properties={}), Relationship(source=Node(id='Sainbayar Sukhbaatar', type='Person', properties={}), target=Node(id='Rob Fergus', type='Person', properties={}), type='CO_AUTHOR', properties={}), Relationship(source=Node(id='Ilya Sutskever', type='Person', properties={}), target=Node(id='Oriol Vinyals', type='Person', properties={}), type='CO_AUTHOR', properties={}), Relationship(source=Node(id='Ilya Sutskever', type='Person', properties={}), target=Node(id='Quoc Vv Le', type='Person', properties={}), type='CO_AUTHOR', properties={}), Relationship(source=Node(id='Christian Szegedy', type='Person', properties={}), target=Node(id='Vincent Vanhoucke', type='Person', properties={}), type='CO_AUTHOR', properties={}), Relationship(source=Node(id='Christian Szegedy', type='Person', properties={}), target=Node(id='Sergey Ioffe', type='Person', properties={}), type='CO_AUTHOR', properties={}), Relationship(source=Node(id='Christian Szegedy', type='Person', properties={}), target=Node(id='Jonathon Shlens', type='Person', properties={}), type='CO_AUTHOR', properties={}), Relationship(source=Node(id='Christian Szegedy', type='Person', properties={}), target=Node(id='Zbigniew Wojna', type='Person', properties={}), type='CO_AUTHOR', properties={}), Relationship(source=Node(id='Yonghui Wu', type='Person', properties={}), target=Node(id='Mike Schuster', type='Person', properties={}), type='CO_AUTHOR', properties={}), Relationship(source=Node(id='Yonghui Wu', type='Person', properties={}), target=Node(id='Zhifeng Chen', type='Person', properties={}), type='CO_AUTHOR', properties={}), Relationship(source=Node(id='Yonghui Wu', type='Person', properties={}), target=Node(id='Quoc V Le', type='Person', properties={}), type='CO_AUTHOR', properties={}), Relationship(source=Node(id='Yonghui Wu', type='Person', properties={}), target=Node(id='Mohammad Norouzi', type='Person', properties={}), type='CO_AUTHOR', properties={}), Relationship(source=Node(id='Yonghui Wu', type='Person', properties={}), target=Node(id='Wolfgang Macherey', type='Person', properties={}), type='CO_AUTHOR', properties={}), Relationship(source=Node(id='Yonghui Wu', type='Person', properties={}), target=Node(id='Maxim Krikun', type='Person', properties={}), type='CO_AUTHOR', properties={}), Relationship(source=Node(id='Yonghui Wu', type='Person', properties={}), target=Node(id='Yuan Cao', type='Person', properties={}), type='CO_AUTHOR', properties={}), Relationship(source=Node(id='Yonghui Wu', type='Person', properties={}), target=Node(id='Qin Gao', type='Person', properties={}), type='CO_AUTHOR', properties={}), Relationship(source=Node(id='Yonghui Wu', type='Person', properties={}), target=Node(id='Klaus Macherey', type='Person', properties={}), type='CO_AUTHOR', properties={}), Relationship(source=Node(id='Jie Zhou', type='Person', properties={}), target=Node(id='Ying Cao', type='Person', properties={}), type='CO_AUTHOR', properties={}), Relationship(source=Node(id='Jie Zhou', type='Person', properties={}), target=Node(id='Xuguang Wang', type='Person', properties={}), type='CO_AUTHOR', properties={}), Relationship(source=Node(id='Jie Zhou', type='Person', properties={}), target=Node(id='Peng Li', type='Person', properties={}), type='CO_AUTHOR', properties={}), Relationship(source=Node(id='Jie Zhou', type='Person', properties={}), target=Node(id='Wei Xu', type='Person', properties={}), type='CO_AUTHOR', properties={})], source=Document(metadata={'producer': 'PyPDF2', 'creator': 'PyPDF', 'creationdate': '', 'subject': 'Neural Information Processing Systems http://nips.cc/', 'publisher': 'Curran Associates, Inc.', 'language': 'en-US', 'created': '2017', 'eventtype': 'Poster', 'description-abstract': 'The dominant sequence transduction models are based on complex recurrent orconvolutional neural networks in an encoder and decoder configuration. The best performing such models also connect the encoder and decoder through an attentionm echanisms.  We propose a novel, simple network architecture based solely onan attention mechanism, dispensing with recurrence and convolutions entirely.Experiments on two machine translation tasks show these models to be superiorin quality while being more parallelizable and requiring significantly less timeto train. Our single model with 165 million parameters, achieves 27.5 BLEU onEnglish-to-German translation, improving over the existing best ensemble result by over 1 BLEU. On English-to-French translation, we outperform the previoussingle state-of-the-art with model by 0.7 BLEU, achieving a BLEU score of 41.1.', 'title': 'Attention is All you Need', 'date': '2017', 'moddate': '2018-02-12T21:22:10-08:00', 'published': '2017', 'type': 'Conference Proceedings', 'firstpage': '5998', 'book': 'Advances in Neural Information Processing Systems 30', 'description': 'Paper accepted and presented at the Neural Information Processing Systems Conference (http://nips.cc/)', 'editors': 'I. Guyon and U.V. Luxburg and S. Bengio and H. Wallach and R. Fergus and S. Vishwanathan and R. Garnett', 'author': 'Ashish Vaswani, Noam Shazeer, Niki Parmar, Jakob Uszkoreit, Llion Jones, Aidan N. Gomez, Łukasz Kaiser, Illia Polosukhin', 'lastpage': '6008', 'source': '../document/attention-is-all-you-need-Paper.pdf', 'total_pages': 11, 'page': 10, 'page_label': '11'}, page_content='[21] Minh-Thang Luong, Hieu Pham, and Christopher D Manning. Effective approaches to attention-\\nbased neural machine translation. arXiv preprint arXiv:1508.04025, 2015.\\n[22] Ankur Parikh, Oscar Täckström, Dipanjan Das, and Jakob Uszkoreit. A decomposable attention\\nmodel. In Empirical Methods in Natural Language Processing, 2016.\\n[23] Romain Paulus, Caiming Xiong, and Richard Socher. A deep reinforced model for abstractive\\nsummarization. arXiv preprint arXiv:1705.04304, 2017.\\n[24] Oﬁr Press and Lior Wolf. Using the output embedding to improve language models. arXiv\\npreprint arXiv:1608.05859, 2016.\\n[25] Rico Sennrich, Barry Haddow, and Alexandra Birch. Neural machine translation of rare words\\nwith subword units. arXiv preprint arXiv:1508.07909, 2015.\\n[26] Noam Shazeer, Azalia Mirhoseini, Krzysztof Maziarz, Andy Davis, Quoc Le, Geoffrey Hinton,\\nand Jeff Dean. Outrageously large neural networks: The sparsely-gated mixture-of-experts\\nlayer. arXiv preprint arXiv:1701.06538, 2017.\\n[27] Nitish Srivastava, Geoffrey E Hinton, Alex Krizhevsky, Ilya Sutskever, and Ruslan Salakhutdi-\\nnov. Dropout: a simple way to prevent neural networks from overﬁtting. Journal of Machine\\nLearning Research, 15(1):1929–1958, 2014.\\n[28] Sainbayar Sukhbaatar, arthur szlam, Jason Weston, and Rob Fergus. End-to-end memory\\nnetworks. In C. Cortes, N. D. Lawrence, D. D. Lee, M. Sugiyama, and R. Garnett, editors,\\nAdvances in Neural Information Processing Systems 28, pages 2440–2448. Curran Associates,\\nInc., 2015.\\n[29] Ilya Sutskever, Oriol Vinyals, and Quoc VV Le. Sequence to sequence learning with neural\\nnetworks. In Advances in Neural Information Processing Systems, pages 3104–3112, 2014.\\n[30] Christian Szegedy, Vincent Vanhoucke, Sergey Ioffe, Jonathon Shlens, and Zbigniew Wojna.\\nRethinking the inception architecture for computer vision. CoRR, abs/1512.00567, 2015.\\n[31] Yonghui Wu, Mike Schuster, Zhifeng Chen, Quoc V Le, Mohammad Norouzi, Wolfgang\\nMacherey, Maxim Krikun, Yuan Cao, Qin Gao, Klaus Macherey, et al. Google’s neural machine\\ntranslation system: Bridging the gap between human and machine translation. arXiv preprint\\narXiv:1609.08144, 2016.\\n[32] Jie Zhou, Ying Cao, Xuguang Wang, Peng Li, and Wei Xu. Deep recurrent models with\\nfast-forward connections for neural machine translation. CoRR, abs/1606.04199, 2016.\\n11'))]"
      ]
     },
     "execution_count": 20,
     "metadata": {},
     "output_type": "execute_result"
    }
   ],
   "source": [
    "graph_documents"
   ]
  },
  {
   "cell_type": "code",
   "execution_count": 21,
   "metadata": {},
   "outputs": [],
   "source": [
    "graph.add_graph_documents(\n",
    "    graph_documents,\n",
    "    baseEntityLabel=True,\n",
    "    include_source=True\n",
    ")"
   ]
  },
  {
   "cell_type": "code",
   "execution_count": 22,
   "metadata": {},
   "outputs": [],
   "source": [
    "# directly show the graph resulting from the given Cypher query\n",
    "default_cypher = \"MATCH (s)-[r:!MENTIONS]->(t) RETURN s,r,t LIMIT 500\""
   ]
  },
  {
   "cell_type": "code",
   "execution_count": 23,
   "metadata": {},
   "outputs": [],
   "source": [
    "from yfiles_jupyter_graphs import GraphWidget\n",
    "from neo4j import GraphDatabase"
   ]
  },
  {
   "cell_type": "code",
   "execution_count": 24,
   "metadata": {},
   "outputs": [],
   "source": [
    "def showGraph(cypher: str = default_cypher):\n",
    "    # create a neo4j session to run queries\n",
    "    driver = GraphDatabase.driver(\n",
    "        uri = os.environ[\"NEO4J_URI\"],\n",
    "        auth = (os.environ[\"NEO4J_USERNAME\"],\n",
    "                os.environ[\"NEO4J_PASSWORD\"]))\n",
    "    session = driver.session()\n",
    "    widget = GraphWidget(graph = session.run(cypher).graph())\n",
    "    widget.node_label_mapping = 'id'\n",
    "    display(widget)\n",
    "    return widget"
   ]
  },
  {
   "cell_type": "code",
   "execution_count": 25,
   "metadata": {},
   "outputs": [
    {
     "data": {
      "application/vnd.jupyter.widget-view+json": {
       "model_id": "73fa9a2cc754468785393d78e1bd3972",
       "version_major": 2,
       "version_minor": 0
      },
      "text/plain": [
       "GraphWidget(layout=Layout(height='800px', width='100%'))"
      ]
     },
     "metadata": {},
     "output_type": "display_data"
    },
    {
     "data": {
      "application/vnd.jupyter.widget-view+json": {
       "model_id": "73fa9a2cc754468785393d78e1bd3972",
       "version_major": 2,
       "version_minor": 0
      },
      "text/plain": [
       "GraphWidget(layout=Layout(height='800px', width='100%'))"
      ]
     },
     "metadata": {},
     "output_type": "display_data"
    }
   ],
   "source": [
    "showGraph()"
   ]
  },
  {
   "cell_type": "code",
   "execution_count": 13,
   "metadata": {},
   "outputs": [
    {
     "data": {
      "text/plain": [
       "[]"
      ]
     },
     "execution_count": 13,
     "metadata": {},
     "output_type": "execute_result"
    }
   ],
   "source": [
    "# delete_graph_step1 = \"match (a) -[r] -> () delete a, r\"\n",
    "# delete_graph_step2 = \"match (a) delete a\"\n",
    "# graph.query(delete_graph_step1)\n",
    "# graph.query(delete_graph_step2)\n"
   ]
  },
  {
   "cell_type": "code",
   "execution_count": 26,
   "metadata": {},
   "outputs": [],
   "source": [
    "from typing import Tuple, List, Optional"
   ]
  },
  {
   "cell_type": "code",
   "execution_count": 27,
   "metadata": {},
   "outputs": [],
   "source": [
    "from langchain_community.vectorstores import Neo4jVector"
   ]
  },
  {
   "cell_type": "code",
   "execution_count": 28,
   "metadata": {},
   "outputs": [],
   "source": [
    "from langchain_openai import OpenAIEmbeddings\n",
    "vector_index = Neo4jVector.from_existing_graph(\n",
    "    OpenAIEmbeddings(),\n",
    "    search_type=\"hybrid\",\n",
    "    node_label=\"Document\",\n",
    "    text_node_properties=[\"text\"],\n",
    "    embedding_node_property=\"embedding\"\n",
    ")"
   ]
  },
  {
   "cell_type": "code",
   "execution_count": 30,
   "metadata": {},
   "outputs": [
    {
     "data": {
      "text/plain": [
       "[]"
      ]
     },
     "execution_count": 30,
     "metadata": {},
     "output_type": "execute_result"
    }
   ],
   "source": [
    "graph.query(\"CREATE FULLTEXT INDEX entity IF NOT EXISTS FOR (e:__Entity__) ON EACH [e.id]\")"
   ]
  },
  {
   "cell_type": "code",
   "execution_count": 32,
   "metadata": {},
   "outputs": [],
   "source": [
    "from langchain_core.pydantic_v1 import BaseModel, Field\n",
    "# Extract entities from text\n",
    "class Entities(BaseModel):\n",
    "    \"\"\"Identifying information about entities.\"\"\"\n",
    "\n",
    "    names: List[str] = Field(\n",
    "        ...,\n",
    "        description=\"All the important entities that appear in the text\",\n",
    "    )\n"
   ]
  },
  {
   "cell_type": "code",
   "execution_count": 33,
   "metadata": {},
   "outputs": [],
   "source": [
    "from langchain_core.prompts import ChatPromptTemplate\n",
    "from langchain_core.prompts.prompt import PromptTemplate"
   ]
  },
  {
   "cell_type": "code",
   "execution_count": 34,
   "metadata": {},
   "outputs": [],
   "source": [
    "prompt = ChatPromptTemplate.from_messages(\n",
    "    [\n",
    "        (\n",
    "            \"system\",\n",
    "            \"You are extracting important entities from the text\",\n",
    "        ),\n",
    "        (\n",
    "            \"human\",\n",
    "            \"Use the given format to extract information from the following \"\n",
    "            \"input: {question}\",\n",
    "        ),\n",
    "    ]\n",
    ")"
   ]
  },
  {
   "cell_type": "code",
   "execution_count": 35,
   "metadata": {},
   "outputs": [
    {
     "name": "stderr",
     "output_type": "stream",
     "text": [
      "/Users/uddeshyabarnwal/miniconda3/lib/python3.12/site-packages/langchain_openai/chat_models/base.py:1624: UserWarning: Received a Pydantic BaseModel V1 schema. This is not supported by method=\"json_schema\". Please use method=\"function_calling\" or specify schema via JSON Schema or Pydantic V2 BaseModel. Overriding to method=\"function_calling\".\n",
      "  warnings.warn(\n"
     ]
    }
   ],
   "source": [
    "entity_chain = prompt | llm.with_structured_output(Entities)"
   ]
  },
  {
   "cell_type": "code",
   "execution_count": 36,
   "metadata": {},
   "outputs": [
    {
     "data": {
      "text/plain": [
       "Entities(names=['architecture', 'attention is all you need'])"
      ]
     },
     "execution_count": 36,
     "metadata": {},
     "output_type": "execute_result"
    }
   ],
   "source": [
    "entity_chain.invoke({\"question\": \"what is architecture of of attention is all you need\"})"
   ]
  },
  {
   "cell_type": "code",
   "execution_count": 37,
   "metadata": {},
   "outputs": [],
   "source": [
    "from langchain_community.vectorstores.neo4j_vector import remove_lucene_chars"
   ]
  },
  {
   "cell_type": "code",
   "execution_count": 38,
   "metadata": {},
   "outputs": [],
   "source": [
    "def generate_full_text_query(input: str) -> str:\n",
    "    full_text_query = \"\"\n",
    "    words = [el for el in remove_lucene_chars(input).split() if el]\n",
    "    for word in words[:-1]:\n",
    "        full_text_query += f\" {word}~2 AND\"\n",
    "    full_text_query += f\" {words[-1]}~2\"\n",
    "    return full_text_query.strip()\n"
   ]
  },
  {
   "cell_type": "code",
   "execution_count": 39,
   "metadata": {},
   "outputs": [],
   "source": [
    "# Fulltext index query\n",
    "def structured_retriever(question: str) -> str:\n",
    "    result = \"\"\n",
    "    entities = entity_chain.invoke({\"question\": question})\n",
    "    for entity in entities.names:\n",
    "        response = graph.query(\n",
    "            \"\"\"CALL db.index.fulltext.queryNodes('entity', $query, {limit:2})\n",
    "            YIELD node,score\n",
    "            CALL {\n",
    "              WITH node\n",
    "              MATCH (node)-[r:!MENTIONS]->(neighbor)\n",
    "              RETURN node.id + ' - ' + type(r) + ' -> ' + neighbor.id AS output\n",
    "              UNION ALL\n",
    "              WITH node\n",
    "              MATCH (node)<-[r:!MENTIONS]-(neighbor)\n",
    "              RETURN neighbor.id + ' - ' + type(r) + ' -> ' +  node.id AS output\n",
    "            }\n",
    "            RETURN output LIMIT 50\n",
    "            \"\"\",\n",
    "            {\"query\": generate_full_text_query(entity)},\n",
    "        )\n",
    "        result += \"\\n\".join([el['output'] for el in response])\n",
    "    return result"
   ]
  },
  {
   "cell_type": "code",
   "execution_count": 41,
   "metadata": {},
   "outputs": [
    {
     "name": "stderr",
     "output_type": "stream",
     "text": [
      "Received notification from DBMS server: {severity: WARNING} {code: Neo.ClientNotification.Statement.FeatureDeprecationWarning} {category: DEPRECATION} {title: This feature is deprecated and will be removed in future versions.} {description: CALL subquery without a variable scope clause is now deprecated. Use CALL (node, node) { ... }} {position: line: 3, column: 13, offset: 104} for query: \"CALL db.index.fulltext.queryNodes('entity', $query, {limit:2})\\n            YIELD node,score\\n            CALL {\\n              WITH node\\n              MATCH (node)-[r:!MENTIONS]->(neighbor)\\n              RETURN node.id + ' - ' + type(r) + ' -> ' + neighbor.id AS output\\n              UNION ALL\\n              WITH node\\n              MATCH (node)<-[r:!MENTIONS]-(neighbor)\\n              RETURN neighbor.id + ' - ' + type(r) + ' -> ' +  node.id AS output\\n            }\\n            RETURN output LIMIT 50\\n            \"\n",
      "Received notification from DBMS server: {severity: WARNING} {code: Neo.ClientNotification.Statement.FeatureDeprecationWarning} {category: DEPRECATION} {title: This feature is deprecated and will be removed in future versions.} {description: CALL subquery without a variable scope clause is now deprecated. Use CALL (node, node) { ... }} {position: line: 3, column: 13, offset: 104} for query: \"CALL db.index.fulltext.queryNodes('entity', $query, {limit:2})\\n            YIELD node,score\\n            CALL {\\n              WITH node\\n              MATCH (node)-[r:!MENTIONS]->(neighbor)\\n              RETURN node.id + ' - ' + type(r) + ' -> ' + neighbor.id AS output\\n              UNION ALL\\n              WITH node\\n              MATCH (node)<-[r:!MENTIONS]-(neighbor)\\n              RETURN neighbor.id + ' - ' + type(r) + ' -> ' +  node.id AS output\\n            }\\n            RETURN output LIMIT 50\\n            \"\n"
     ]
    },
    {
     "name": "stdout",
     "output_type": "stream",
     "text": [
      "Denny Britz - AUTHORED -> Massive Exploration Of Neural Machine Translation Architectures\n",
      "Anna Goldie - AUTHORED -> Massive Exploration Of Neural Machine Translation Architectures\n",
      "Minh-Thang Luong - AUTHORED -> Massive Exploration Of Neural Machine Translation Architectures\n",
      "Quoc V . Le - AUTHORED -> Massive Exploration Of Neural Machine Translation Architectures\n"
     ]
    }
   ],
   "source": [
    "print(structured_retriever(\"what is architecture of of attention is all you need\"))"
   ]
  },
  {
   "cell_type": "code",
   "execution_count": 42,
   "metadata": {},
   "outputs": [],
   "source": [
    "def retriever(question: str):\n",
    "    print(f\"Search query: {question}\")\n",
    "    structured_data = structured_retriever(question)\n",
    "    unstructured_data = [el.page_content for el in vector_index.similarity_search(question)]\n",
    "    final_data = f\"\"\"Structured data:\n",
    "{structured_data}\n",
    "Unstructured data:\n",
    "{\"#Document \". join(unstructured_data)}\n",
    "    \"\"\"\n",
    "    return final_data"
   ]
  },
  {
   "cell_type": "code",
   "execution_count": 43,
   "metadata": {},
   "outputs": [],
   "source": [
    "_template = \"\"\"Given the following conversation and a follow up question, rephrase the follow up question to be a standalone question,\n",
    "in its original language.\n",
    "Chat History:\n",
    "{chat_history}\n",
    "Follow Up Input: {question}\n",
    "Standalone question:\"\"\""
   ]
  },
  {
   "cell_type": "code",
   "execution_count": 44,
   "metadata": {},
   "outputs": [],
   "source": [
    "CONDENSE_QUESTION_PROMPT = PromptTemplate.from_template(_template)"
   ]
  },
  {
   "cell_type": "code",
   "execution_count": 45,
   "metadata": {},
   "outputs": [],
   "source": [
    "def _format_chat_history(chat_history: List[Tuple[str, str]]) -> List:\n",
    "    buffer = []\n",
    "    for human, ai in chat_history:\n",
    "        buffer.append(HumanMessage(content=human))\n",
    "        buffer.append(AIMessage(content=ai))\n",
    "    return buffer"
   ]
  },
  {
   "cell_type": "code",
   "execution_count": 46,
   "metadata": {},
   "outputs": [],
   "source": [
    "from langchain_core.output_parsers import StrOutputParser\n",
    "_search_query = RunnableBranch(\n",
    "    # If input includes chat_history, we condense it with the follow-up question\n",
    "    (\n",
    "        RunnableLambda(lambda x: bool(x.get(\"chat_history\"))).with_config(\n",
    "            run_name=\"HasChatHistoryCheck\"\n",
    "        ),  # Condense follow-up question and chat into a standalone_question\n",
    "        RunnablePassthrough.assign(\n",
    "            chat_history=lambda x: _format_chat_history(x[\"chat_history\"])\n",
    "        )\n",
    "        | CONDENSE_QUESTION_PROMPT\n",
    "        | ChatOpenAI(temperature=0)\n",
    "        | StrOutputParser(),\n",
    "    ),\n",
    "    # Else, we have no chat history, so just pass through the question\n",
    "    RunnableLambda(lambda x : x[\"question\"]),\n",
    ")"
   ]
  },
  {
   "cell_type": "code",
   "execution_count": 47,
   "metadata": {},
   "outputs": [],
   "source": [
    "template = \"\"\"Answer the question based only on the following context:\n",
    "{context}\n",
    "\n",
    "Question: {question}\n",
    "Use natural language and be concise.\n",
    "Answer:\"\"\""
   ]
  },
  {
   "cell_type": "code",
   "execution_count": 48,
   "metadata": {},
   "outputs": [],
   "source": [
    "prompt = ChatPromptTemplate.from_template(template)\n"
   ]
  },
  {
   "cell_type": "code",
   "execution_count": 49,
   "metadata": {},
   "outputs": [],
   "source": [
    "chain = (\n",
    "    RunnableParallel(\n",
    "        {\n",
    "            \"context\": _search_query | retriever,\n",
    "            \"question\": RunnablePassthrough(),\n",
    "        }\n",
    "    )\n",
    "    | prompt\n",
    "    | llm\n",
    "    | StrOutputParser()\n",
    ")"
   ]
  },
  {
   "cell_type": "code",
   "execution_count": 50,
   "metadata": {},
   "outputs": [
    {
     "name": "stdout",
     "output_type": "stream",
     "text": [
      "Search query: what is architecture of of attention is all you need\n"
     ]
    },
    {
     "name": "stderr",
     "output_type": "stream",
     "text": [
      "Received notification from DBMS server: {severity: WARNING} {code: Neo.ClientNotification.Statement.FeatureDeprecationWarning} {category: DEPRECATION} {title: This feature is deprecated and will be removed in future versions.} {description: CALL subquery without a variable scope clause is now deprecated. Use CALL (node, node) { ... }} {position: line: 3, column: 13, offset: 104} for query: \"CALL db.index.fulltext.queryNodes('entity', $query, {limit:2})\\n            YIELD node,score\\n            CALL {\\n              WITH node\\n              MATCH (node)-[r:!MENTIONS]->(neighbor)\\n              RETURN node.id + ' - ' + type(r) + ' -> ' + neighbor.id AS output\\n              UNION ALL\\n              WITH node\\n              MATCH (node)<-[r:!MENTIONS]-(neighbor)\\n              RETURN neighbor.id + ' - ' + type(r) + ' -> ' +  node.id AS output\\n            }\\n            RETURN output LIMIT 50\\n            \"\n",
      "Received notification from DBMS server: {severity: WARNING} {code: Neo.ClientNotification.Statement.FeatureDeprecationWarning} {category: DEPRECATION} {title: This feature is deprecated and will be removed in future versions.} {description: CALL subquery without a variable scope clause is now deprecated. Use CALL (node, node) { ... }} {position: line: 3, column: 13, offset: 104} for query: \"CALL db.index.fulltext.queryNodes('entity', $query, {limit:2})\\n            YIELD node,score\\n            CALL {\\n              WITH node\\n              MATCH (node)-[r:!MENTIONS]->(neighbor)\\n              RETURN node.id + ' - ' + type(r) + ' -> ' + neighbor.id AS output\\n              UNION ALL\\n              WITH node\\n              MATCH (node)<-[r:!MENTIONS]-(neighbor)\\n              RETURN neighbor.id + ' - ' + type(r) + ' -> ' +  node.id AS output\\n            }\\n            RETURN output LIMIT 50\\n            \"\n",
      "Received notification from DBMS server: {severity: WARNING} {code: Neo.ClientNotification.Statement.FeatureDeprecationWarning} {category: DEPRECATION} {title: This feature is deprecated and will be removed in future versions.} {description: CALL subquery without a variable scope clause is now deprecated. Use CALL () { ... }} {position: line: 1, column: 1, offset: 0} for query: \"CALL { CALL db.index.vector.queryNodes($index, $k, $embedding) YIELD node, score WITH collect({node:node, score:score}) AS nodes, max(score) AS max UNWIND nodes AS n RETURN n.node AS node, (n.score / max) AS score UNION CALL db.index.fulltext.queryNodes($keyword_index, $query, {limit: $k}) YIELD node, score WITH collect({node:node, score:score}) AS nodes, max(score) AS max UNWIND nodes AS n RETURN n.node AS node, (n.score / max) AS score } WITH node, max(score) AS score ORDER BY score DESC LIMIT $k RETURN reduce(str='', k IN ['text'] | str + '\\\\n' + k + ': ' + coalesce(node[k], '')) AS text, node {.*, `embedding`: Null, id: Null, `text`: Null} AS metadata, score\"\n"
     ]
    },
    {
     "data": {
      "text/plain": [
       "'The architecture of \"Attention Is All You Need\" introduces the Transformer model, which relies entirely on attention mechanisms without using recurrence or convolutions. It consists of an encoder-decoder structure, where the encoder maps input sequences to continuous representations using multi-head self-attention, and the decoder generates output sequences based on these representations. Both the encoder and decoder are composed of stacked layers that include residual connections and layer normalization. The model allows for significant parallelization and achieves state-of-the-art performance in machine translation tasks.'"
      ]
     },
     "execution_count": 50,
     "metadata": {},
     "output_type": "execute_result"
    }
   ],
   "source": [
    "chain.invoke({\"question\": \"what is architecture of of attention is all you need\"})"
   ]
  },
  {
   "cell_type": "code",
   "execution_count": 51,
   "metadata": {},
   "outputs": [
    {
     "name": "stdout",
     "output_type": "stream",
     "text": [
      "Search query: What is the architecture of the attention is all you need model?\n"
     ]
    },
    {
     "name": "stderr",
     "output_type": "stream",
     "text": [
      "Received notification from DBMS server: {severity: WARNING} {code: Neo.ClientNotification.Statement.FeatureDeprecationWarning} {category: DEPRECATION} {title: This feature is deprecated and will be removed in future versions.} {description: CALL subquery without a variable scope clause is now deprecated. Use CALL (node, node) { ... }} {position: line: 3, column: 13, offset: 104} for query: \"CALL db.index.fulltext.queryNodes('entity', $query, {limit:2})\\n            YIELD node,score\\n            CALL {\\n              WITH node\\n              MATCH (node)-[r:!MENTIONS]->(neighbor)\\n              RETURN node.id + ' - ' + type(r) + ' -> ' + neighbor.id AS output\\n              UNION ALL\\n              WITH node\\n              MATCH (node)<-[r:!MENTIONS]-(neighbor)\\n              RETURN neighbor.id + ' - ' + type(r) + ' -> ' +  node.id AS output\\n            }\\n            RETURN output LIMIT 50\\n            \"\n",
      "Received notification from DBMS server: {severity: WARNING} {code: Neo.ClientNotification.Statement.FeatureDeprecationWarning} {category: DEPRECATION} {title: This feature is deprecated and will be removed in future versions.} {description: CALL subquery without a variable scope clause is now deprecated. Use CALL (node, node) { ... }} {position: line: 3, column: 13, offset: 104} for query: \"CALL db.index.fulltext.queryNodes('entity', $query, {limit:2})\\n            YIELD node,score\\n            CALL {\\n              WITH node\\n              MATCH (node)-[r:!MENTIONS]->(neighbor)\\n              RETURN node.id + ' - ' + type(r) + ' -> ' + neighbor.id AS output\\n              UNION ALL\\n              WITH node\\n              MATCH (node)<-[r:!MENTIONS]-(neighbor)\\n              RETURN neighbor.id + ' - ' + type(r) + ' -> ' +  node.id AS output\\n            }\\n            RETURN output LIMIT 50\\n            \"\n",
      "Received notification from DBMS server: {severity: WARNING} {code: Neo.ClientNotification.Statement.FeatureDeprecationWarning} {category: DEPRECATION} {title: This feature is deprecated and will be removed in future versions.} {description: CALL subquery without a variable scope clause is now deprecated. Use CALL () { ... }} {position: line: 1, column: 1, offset: 0} for query: \"CALL { CALL db.index.vector.queryNodes($index, $k, $embedding) YIELD node, score WITH collect({node:node, score:score}) AS nodes, max(score) AS max UNWIND nodes AS n RETURN n.node AS node, (n.score / max) AS score UNION CALL db.index.fulltext.queryNodes($keyword_index, $query, {limit: $k}) YIELD node, score WITH collect({node:node, score:score}) AS nodes, max(score) AS max UNWIND nodes AS n RETURN n.node AS node, (n.score / max) AS score } WITH node, max(score) AS score ORDER BY score DESC LIMIT $k RETURN reduce(str='', k IN ['text'] | str + '\\\\n' + k + ': ' + coalesce(node[k], '')) AS text, node {.*, `embedding`: Null, id: Null, `text`: Null} AS metadata, score\"\n"
     ]
    },
    {
     "data": {
      "text/plain": [
       "'The architecture of \"Attention Is All You Need\" is based on the Transformer model, which relies entirely on attention mechanisms without using recurrence or convolutions. It consists of an encoder-decoder structure, where the encoder maps input sequences to continuous representations, and the decoder generates output sequences. Both the encoder and decoder are composed of multiple identical layers that include multi-head self-attention and fully connected feed-forward networks. This design allows for significant parallelization and improved training efficiency.'"
      ]
     },
     "execution_count": 51,
     "metadata": {},
     "output_type": "execute_result"
    }
   ],
   "source": [
    "chain.invoke(\n",
    "    {\n",
    "        \"question\": \"what is architecture of of attention is all you need\",\n",
    "        \"chat_history\": [(\"attention is all you need  \", \"Transformer\")],\n",
    "    }\n",
    ")"
   ]
  },
  {
   "cell_type": "code",
   "execution_count": null,
   "metadata": {},
   "outputs": [],
   "source": []
  }
 ],
 "metadata": {
  "kernelspec": {
   "display_name": "base",
   "language": "python",
   "name": "python3"
  },
  "language_info": {
   "codemirror_mode": {
    "name": "ipython",
    "version": 3
   },
   "file_extension": ".py",
   "mimetype": "text/x-python",
   "name": "python",
   "nbconvert_exporter": "python",
   "pygments_lexer": "ipython3",
   "version": "3.12.9"
  }
 },
 "nbformat": 4,
 "nbformat_minor": 2
}
